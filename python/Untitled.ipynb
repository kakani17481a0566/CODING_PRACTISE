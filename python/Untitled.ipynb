{
 "cells": [
  {
   "cell_type": "code",
   "execution_count": 18,
   "id": "b970e40c-0c3a-4519-910b-7e156ccce8f4",
   "metadata": {},
   "outputs": [
    {
     "name": "stdout",
     "output_type": "stream",
     "text": [
      "rgsddddd\n"
     ]
    }
   ],
   "source": [
    "Name: 'mohit'\n",
    "Age : 25\n",
    "mobile_number : 6281234148"
   ]
  },
  {
   "cell_type": "code",
   "execution_count": 19,
   "id": "0e5f6ea2-737b-4ac9-88e4-16bf2435ea0f",
   "metadata": {},
   "outputs": [
    {
     "name": "stdout",
     "output_type": "stream",
     "text": [
      " Hello my name is  SAI my age is  10 and my mobile number is  6281234148\n",
      "Hello My name is SAI , my age is 10 and my mobile number 6281234148\n",
      "f string method\n",
      "My name is SAI of 10 AND MOBILE NUMBER IS 6281234148\n"
     ]
    }
   ],
   "source": [
    "name = 'SAI'\n",
    "AGE = 10\n",
    "MONILE_NUMBER = 6281234148\n",
    "\n",
    "print(\n",
    "    \" Hello my name is \", name, \"my age is \", AGE, \"and my mobile number is \", MONILE_NUMBER\n",
    "\n",
    ")\n",
    "\n",
    "##.formate\n",
    "print (\n",
    "\n",
    "\"Hello My name is {} , my age is {} and my mobile number {}\".format(name,AGE,MONILE_NUMBER))\n",
    "\n",
    "print(\"f string method\")\n",
    "\n",
    "print(f'My name is {name} of {AGE} AND MOBILE NUMBER IS {MONILE_NUMBER}' ) "
   ]
  },
  {
   "cell_type": "code",
   "execution_count": 20,
   "id": "8807ea01",
   "metadata": {},
   "outputs": [
    {
     "name": "stdout",
     "output_type": "stream",
     "text": [
      "LOCATION IN MY RAM 1982101486544\n"
     ]
    }
   ],
   "source": [
    "C = id(name)\n",
    "print ('LOCATION IN MY RAM', C)"
   ]
  },
  {
   "cell_type": "code",
   "execution_count": 3,
   "id": "d4d87748",
   "metadata": {
    "scrolled": true
   },
   "outputs": [
    {
     "name": "stdout",
     "output_type": "stream",
     "text": [
      "Wnat is  valu now :  0\n",
      "before adding ==> num 50\n",
      "50\n",
      "-------------\n"
     ]
    }
   ],
   "source": [
    "num = 50\n",
    "for i in range (0,1):\n",
    "    print(\"Wnat is  valu now : \", i)\n",
    "    print(\"before adding ==> num\", num)\n",
    "    print(num+i)\n",
    "    print(\"-------------\")"
   ]
  },
  {
   "cell_type": "code",
   "execution_count": 4,
   "id": "3c09fca0-f33d-46c0-a0f4-d5d65861cdb7",
   "metadata": {},
   "outputs": [
    {
     "name": "stdout",
     "output_type": "stream",
     "text": [
      "whats the value of i --> 10\n",
      "whats the value of val --> 5\n",
      "whats the value of i after before i-1 --> 10\n",
      "whats the value of val --> 5\n",
      "50\n",
      "what the value after 1- 9\n",
      "--------------\n",
      "whats the value of i --> 9\n",
      "whats the value of val --> 5\n",
      "whats the value of i after before i-1 --> 9\n",
      "whats the value of val --> 5\n",
      "45\n",
      "what the value after 1- 8\n",
      "--------------\n",
      "whats the value of i --> 8\n",
      "whats the value of val --> 5\n",
      "whats the value of i after before i-1 --> 8\n",
      "whats the value of val --> 5\n",
      "40\n",
      "what the value after 1- 7\n",
      "--------------\n",
      "whats the value of i --> 7\n",
      "whats the value of val --> 5\n",
      "whats the value of i after before i-1 --> 7\n",
      "whats the value of val --> 5\n",
      "35\n",
      "what the value after 1- 6\n",
      "--------------\n",
      "whats the value of i --> 6\n",
      "whats the value of val --> 5\n",
      "whats the value of i after before i-1 --> 6\n",
      "whats the value of val --> 5\n",
      "30\n",
      "what the value after 1- 5\n",
      "--------------\n",
      "whats the value of i --> 5\n",
      "whats the value of val --> 5\n",
      "whats the value of i after before i-1 --> 5\n",
      "whats the value of val --> 5\n",
      "25\n",
      "what the value after 1- 4\n",
      "--------------\n",
      "whats the value of i --> 4\n",
      "whats the value of val --> 5\n",
      "whats the value of i after before i-1 --> 4\n",
      "whats the value of val --> 5\n",
      "20\n",
      "what the value after 1- 3\n",
      "--------------\n",
      "whats the value of i --> 3\n",
      "whats the value of val --> 5\n",
      "whats the value of i after before i-1 --> 3\n",
      "whats the value of val --> 5\n",
      "15\n",
      "what the value after 1- 2\n",
      "--------------\n",
      "whats the value of i --> 2\n",
      "whats the value of val --> 5\n",
      "whats the value of i after before i-1 --> 2\n",
      "whats the value of val --> 5\n",
      "10\n",
      "what the value after 1- 1\n",
      "--------------\n"
     ]
    }
   ],
   "source": [
    "i =10\n",
    "valu = 5\n",
    "\n",
    "while i > 1:\n",
    "    print(f'whats the value of i --> {i}')\n",
    "    print(f'whats the value of val --> {valu}')\n",
    "    vars = i * valu\n",
    "    print(f'whats the value of i after before i-1 --> {i}')\n",
    "    print(f'whats the value of val --> {valu}')\n",
    "    print(vars)\n",
    "    i = i-1\n",
    "    print(f'what the value after 1- {i}')\n",
    "    print('--------------')\n",
    "    "
   ]
  },
  {
   "cell_type": "code",
   "execution_count": null,
   "id": "3070ee7d-560c-4afd-ac1e-f392738aa9da",
   "metadata": {},
   "outputs": [],
   "source": []
  }
 ],
 "metadata": {
  "kernelspec": {
   "display_name": "Python 3 (ipykernel)",
   "language": "python",
   "name": "python3"
  },
  "language_info": {
   "codemirror_mode": {
    "name": "ipython",
    "version": 3
   },
   "file_extension": ".py",
   "mimetype": "text/x-python",
   "name": "python",
   "nbconvert_exporter": "python",
   "pygments_lexer": "ipython3",
   "version": "3.12.4"
  }
 },
 "nbformat": 4,
 "nbformat_minor": 5
}
