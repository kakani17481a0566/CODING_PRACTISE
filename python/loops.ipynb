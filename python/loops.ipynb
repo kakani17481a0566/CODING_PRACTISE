{
 "cells": [
  {
   "cell_type": "markdown",
   "metadata": {},
   "source": [
    "### 1. Print all even numbers from 1 to 100.\n"
   ]
  },
  {
   "cell_type": "code",
   "execution_count": 23,
   "metadata": {},
   "outputs": [
    {
     "name": "stdout",
     "output_type": "stream",
     "text": [
      "2\n",
      "4\n",
      "6\n",
      "8\n"
     ]
    }
   ],
   "source": [
    "for num_1 in range (1,10):\n",
    "    num_2 = num_1%2\n",
    "    if(num_2 == 0):\n",
    "        print(num_1)"
   ]
  },
  {
   "cell_type": "markdown",
   "metadata": {},
   "source": [
    "### Calculate the factorial of a number"
   ]
  },
  {
   "cell_type": "code",
   "execution_count": 24,
   "metadata": {},
   "outputs": [
    {
     "name": "stdout",
     "output_type": "stream",
     "text": [
      "1\n"
     ]
    }
   ],
   "source": [
    "fact = int(input(\"enter number\"))\n",
    "for i in range(1,fact):\n",
    "    if fact % i == 0:\n",
    "        print(i)"
   ]
  },
  {
   "cell_type": "markdown",
   "metadata": {},
   "source": [
    "### 3. Find the sum of all prime numbers up to a specified number."
   ]
  },
  {
   "cell_type": "code",
   "execution_count": 25,
   "metadata": {},
   "outputs": [
    {
     "name": "stdout",
     "output_type": "stream",
     "text": [
      "5 > 5 :(\n"
     ]
    }
   ],
   "source": [
    "c_num = []\n",
    "P_num = []\n",
    "num_1 = int(input(\"Enter the start value > 1 --> \"))\n",
    "num_2 = int(input(\"Enter the end value N+1 -->\"))\n",
    "if num_1<num_2:\n",
    "    for a in range(num_1, num_2):\n",
    "        #print(\"start\",a)\n",
    "        if a > 1:\n",
    "            for p in range(2, a):\n",
    "            #  print(f\"Before start a==> {a} and p ==>  {p}\")\n",
    "                pr_num = a % p          \n",
    "            # print(f\"after  start a==> {a}  , p ==>  {p}\")\n",
    "                c_num.append(pr_num)\n",
    "                #print(\"pr_num\",pr_num)\n",
    "                #print(c_num)\n",
    "                \n",
    "            if 0 not in c_num:\n",
    "                P_num.append(a)\n",
    "                \n",
    "            c_num.clear()\n",
    "        # print(\"end\")\n",
    "\n",
    "    c_num.clear()\n",
    "#print(c_num)\n",
    "    print(P_num)\n",
    "else:\n",
    "    print(f'{num_1} > {num_2} :(')\n",
    "\n",
    "    \n",
    "    ## sum(P_num)\n",
    "\n"
   ]
  },
  {
   "cell_type": "markdown",
   "metadata": {},
   "source": [
    "### Generate a multiplication table for a given number.\n"
   ]
  },
  {
   "cell_type": "code",
   "execution_count": 33,
   "metadata": {},
   "outputs": [
    {
     "name": "stdout",
     "output_type": "stream",
     "text": [
      "5 * 0 = 0\n",
      "5 * 1 = 5\n",
      "5 * 2 = 10\n",
      "5 * 3 = 15\n",
      "5 * 4 = 20\n"
     ]
    }
   ],
   "source": [
    "i = int(input(\"Enter the start value > 1 --> \"))\n",
    "a = int(input(\"Enter the start value > 1 --> \"))\n",
    "for i  in range(a):\n",
    "    b= a*i\n",
    "   # print(b)\n",
    "    print(f'{a} * {i} = {b}')"
   ]
  },
  {
   "cell_type": "markdown",
   "metadata": {},
   "source": [
    "### intrest 1. Create a program for calculating simple interest by taking principal amount, rate of interest and term values from user.\n"
   ]
  },
  {
   "cell_type": "code",
   "execution_count": 36,
   "metadata": {},
   "outputs": [
    {
     "name": "stdout",
     "output_type": "stream",
     "text": [
      "50000.0\n"
     ]
    }
   ],
   "source": [
    "amount = int(input(\"Enter Number -->\"))\n",
    "intrest_ = int(input(\"Enter intrest -->  \")) \n",
    "time_period  =int(input(\"enter time period -->\"))\n",
    "\n",
    "simple_intrest = amount * (intrest_/100) * time_period\n",
    "print(simple_intrest)"
   ]
  }
 ],
 "metadata": {
  "kernelspec": {
   "display_name": "Python 3",
   "language": "python",
   "name": "python3"
  },
  "language_info": {
   "codemirror_mode": {
    "name": "ipython",
    "version": 3
   },
   "file_extension": ".py",
   "mimetype": "text/x-python",
   "name": "python",
   "nbconvert_exporter": "python",
   "pygments_lexer": "ipython3",
   "version": "3.12.4"
  }
 },
 "nbformat": 4,
 "nbformat_minor": 2
}
