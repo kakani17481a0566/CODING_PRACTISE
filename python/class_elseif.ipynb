{
 "cells": [
  {
   "cell_type": "markdown",
   "metadata": {},
   "source": [
    "## marks range "
   ]
  },
  {
   "cell_type": "code",
   "execution_count": 7,
   "metadata": {},
   "outputs": [
    {
     "name": "stdout",
     "output_type": "stream",
     "text": [
      "Fail\n"
     ]
    }
   ],
   "source": [
    "Marks =  int(input(\"Enter the marks\"))\n",
    "if(Marks >= 80 ):\n",
    "    print(F\"{Marks} 1st class\")\n",
    "elif(Marks >= 60 ):\n",
    "    print(\"2nd rank\")\n",
    "elif(Marks>=40):\n",
    "    print(\"3rd rank\")\n",
    "else:\n",
    "    print(\"Fail\")\n",
    "    "
   ]
  },
  {
   "cell_type": "code",
   "execution_count": 8,
   "metadata": {},
   "outputs": [
    {
     "name": "stdout",
     "output_type": "stream",
     "text": [
      "1 = 1\n"
     ]
    }
   ],
   "source": [
    "num1 = int(input(\"Enter Number one ==>\"))\n",
    "num2 = int(input(\"Enter Number two\"))\n",
    "if (num1 > num2):\n",
    "    print(f\"{num1} is greater than {num2}\")\n",
    "elif(num2 > num1):\n",
    "    print(f\"{num2} is greater than {num1}\")\n",
    "else:\n",
    "    print(f\"{num1} = {num2}\")"
   ]
  },
  {
   "cell_type": "markdown",
   "metadata": {},
   "source": [
    "## nestet if"
   ]
  },
  {
   "cell_type": "code",
   "execution_count": 9,
   "metadata": {},
   "outputs": [],
   "source": [
    "num1 = int(input(\"Enter Number one ==>\"))\n",
    "num2 = int(input(\"Enter Number two\"))\n",
    "if (num1 > num2):\n",
    "    print(f\"{num1} is greater than {num2}\")\n",
    "    if(num2 > num1):\n",
    "        print(f\"{num2} is greater than {num1}\")\n",
    "        if(num1 == num2):\n",
    "            print(f\"{num1} = {num2}\")"
   ]
  },
  {
   "cell_type": "code",
   "execution_count": 10,
   "metadata": {},
   "outputs": [
    {
     "name": "stdout",
     "output_type": "stream",
     "text": [
      "Odd Number ==> 1\n",
      "Odd Number ==> 1\n"
     ]
    }
   ],
   "source": [
    "num1 = int(input(\"Enter the Number ==>\"))\n",
    "num1 = num1%2\n",
    "\n",
    "if (num1 == 0):\n",
    "    print(f\"Even Number ==> {num1}\")\n",
    "else:\n",
    "    print(f'Odd Number ==> {num1}')\n",
    "num1 = num1%2\n",
    "\n",
    "if (num1 == 0):\n",
    "    print(f\"Even Number ==> {num1}\")\n",
    "else:\n",
    "    print(f'Odd Number ==> {num1}')"
   ]
  },
  {
   "cell_type": "code",
   "execution_count": 11,
   "metadata": {},
   "outputs": [
    {
     "name": "stdout",
     "output_type": "stream",
     "text": [
      "1\n",
      "2\n",
      "3\n",
      "4\n",
      "5\n",
      "6\n",
      "7\n",
      "8\n",
      "9\n",
      "10\n"
     ]
    }
   ],
   "source": [
    "num1 = int(input(\"Enter the Number ==>\"))\n",
    "for i in range (1,11):\n",
    "    mul = (num1*i)\n",
    "    print(mul)"
   ]
  },
  {
   "cell_type": "code",
   "execution_count": 12,
   "metadata": {},
   "outputs": [
    {
     "name": "stdout",
     "output_type": "stream",
     "text": [
      "50\n",
      "----\n",
      "100\n",
      "----\n",
      "150\n",
      "----\n",
      "200\n",
      "----\n"
     ]
    }
   ],
   "source": [
    "num = 50\n",
    "for i in range(1,5):\n",
    "    print(num*i)\n",
    "    \n",
    "    print(\"----\")"
   ]
  },
  {
   "cell_type": "code",
   "execution_count": 13,
   "metadata": {},
   "outputs": [
    {
     "name": "stdout",
     "output_type": "stream",
     "text": [
      "c\n"
     ]
    }
   ],
   "source": [
    "a = int(input(\"a\"))\n",
    "b = int(input(\"b\"))\n",
    "c = int(input(\"c\"))\n",
    "\n",
    "if a > b and a > c:\n",
    "    print(\"a large\")\n",
    "elif b>c:\n",
    "    print(\"b\")\n",
    "else:\n",
    "    print(\"c\")"
   ]
  },
  {
   "cell_type": "code",
   "execution_count": 14,
   "metadata": {},
   "outputs": [
    {
     "name": "stdout",
     "output_type": "stream",
     "text": [
      "0\n"
     ]
    }
   ],
   "source": [
    "for kmk in range (1):\n",
    "    print(kmk)"
   ]
  },
  {
   "cell_type": "code",
   "execution_count": 15,
   "metadata": {},
   "outputs": [
    {
     "name": "stdout",
     "output_type": "stream",
     "text": [
      "inner 0 \n",
      "inner 1 \n",
      "outer range 0 end\n",
      "inner 0 \n",
      "inner 1 \n",
      "outer range 1 end\n",
      "inner 0 \n",
      "inner 1 \n",
      "outer range 2 end\n",
      "inner 0 \n",
      "inner 1 \n",
      "outer range 3 end\n",
      "inner 0 \n",
      "inner 1 \n",
      "outer range 4 end\n",
      "loop end\n"
     ]
    }
   ],
   "source": [
    "for outer in range (5):\n",
    "    for inner in range (2):\n",
    "        print(f\"inner {inner} \")\n",
    "    print(f\"outer range {outer} end\")\n",
    "print(\"loop end\")\n",
    "    "
   ]
  },
  {
   "cell_type": "code",
   "execution_count": 22,
   "metadata": {},
   "outputs": [
    {
     "name": "stdout",
     "output_type": "stream",
     "text": [
      "I vale before start 10\n",
      "50\n",
      "I vale after exe start 9\n",
      "----\n",
      "I vale before start 9\n",
      "45\n",
      "I vale after exe start 8\n",
      "----\n",
      "I vale before start 8\n",
      "40\n",
      "I vale after exe start 7\n",
      "----\n",
      "I vale before start 7\n",
      "35\n",
      "I vale after exe start 6\n",
      "----\n",
      "I vale before start 6\n",
      "30\n",
      "I vale after exe start 5\n",
      "----\n",
      "I vale before start 5\n",
      "25\n",
      "I vale after exe start 4\n",
      "----\n",
      "I vale before start 4\n",
      "20\n",
      "I vale after exe start 3\n",
      "----\n",
      "I vale before start 3\n",
      "15\n",
      "I vale after exe start 2\n",
      "----\n",
      "I vale before start 2\n",
      "10\n",
      "I vale after exe start 1\n",
      "----\n",
      "I vale before start 1\n",
      "5\n",
      "I vale after exe start 0\n",
      "----\n"
     ]
    }
   ],
   "source": [
    "var = 5 \n",
    "i = 10 \n",
    "while i >= 1:\n",
    "    print(f\"I vale before start {i}\")\n",
    "    vars = var *i\n",
    "    print(vars)\n",
    "    i =i -1\n",
    "    print(f\"I vale after exe start {i}\")\n",
    "    print(\"----\")"
   ]
  }
 ],
 "metadata": {
  "kernelspec": {
   "display_name": "Python 3",
   "language": "python",
   "name": "python3"
  },
  "language_info": {
   "codemirror_mode": {
    "name": "ipython",
    "version": 3
   },
   "file_extension": ".py",
   "mimetype": "text/x-python",
   "name": "python",
   "nbconvert_exporter": "python",
   "pygments_lexer": "ipython3",
   "version": "3.12.4"
  }
 },
 "nbformat": 4,
 "nbformat_minor": 2
}
