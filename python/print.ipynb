{
 "cells": [
  {
   "cell_type": "code",
   "execution_count": 154,
   "metadata": {},
   "outputs": [],
   "source": [
    "# Define personal information\n",
    "name = 'Mohit'\n",
    "age = 25\n",
    "mobile_number = '6281234148'\n",
    "\n"
   ]
  },
  {
   "cell_type": "code",
   "execution_count": null,
   "metadata": {},
   "outputs": [],
   "source": []
  },
  {
   "cell_type": "code",
   "execution_count": 155,
   "metadata": {},
   "outputs": [
    {
     "name": "stdout",
     "output_type": "stream",
     "text": [
      "Using f-string: Name: Mohit, Age: 25, Mobile Number: 6281234148\n"
     ]
    }
   ],
   "source": [
    "# Using f-strings for formatted output\n",
    "print(f\"Using f-string: Name: {name}, Age: {age}, Mobile Number: {mobile_number}\")\n"
   ]
  },
  {
   "cell_type": "code",
   "execution_count": 156,
   "metadata": {},
   "outputs": [
    {
     "name": "stdout",
     "output_type": "stream",
     "text": [
      "Using format(): Name: Mohit, Age: 25, Mobile Number: 6281234148\n"
     ]
    }
   ],
   "source": [
    "\n",
    "# Using the format() method\n",
    "print(\"Using format(): Name: {}, Age: {}, Mobile Number: {}\".format(name, age, mobile_number))\n",
    "\n"
   ]
  },
  {
   "cell_type": "code",
   "execution_count": 157,
   "metadata": {},
   "outputs": [
    {
     "name": "stdout",
     "output_type": "stream",
     "text": [
      "Using concatenation: Name: Mohit, Age: 25, Mobile Number: 6281234148\n"
     ]
    }
   ],
   "source": [
    "# Using string concatenation\n",
    "print(\"Using concatenation: Name: \" + name + \", Age: \" + str(age) + \", Mobile Number: \" + mobile_number)\n",
    "\n"
   ]
  },
  {
   "cell_type": "code",
   "execution_count": 158,
   "metadata": {},
   "outputs": [
    {
     "name": "stdout",
     "output_type": "stream",
     "text": [
      "Using multiple print statements:\n",
      "Name: Mohit\n",
      "Age: 25\n",
      "Mobile Number: 6281234148\n"
     ]
    }
   ],
   "source": [
    "# Using multiple print statements\n",
    "print(\"Using multiple print statements:\")\n",
    "print(\"Name:\", name)\n",
    "print(\"Age:\", age)\n",
    "print(\"Mobile Number:\", mobile_number)"
   ]
  },
  {
   "cell_type": "markdown",
   "metadata": {},
   "source": [
    "### arithmetic operators"
   ]
  },
  {
   "cell_type": "code",
   "execution_count": 159,
   "metadata": {},
   "outputs": [
    {
     "name": "stdout",
     "output_type": "stream",
     "text": [
      "Addition: 13\n",
      "Subtraction: 7\n",
      "Multiplication: 30\n",
      "Division: 3.3333333333333335\n",
      "Floor Division: 3\n",
      "Modulus: 1\n",
      "Exponentiation: 1000\n"
     ]
    }
   ],
   "source": [
    "a = 10\n",
    "b = 3\n",
    "\n",
    "print(\"Addition:\", a + b)            # 13\n",
    "print(\"Subtraction:\", a - b)         # 7\n",
    "print(\"Multiplication:\", a * b)      # 30\n",
    "print(\"Division:\", a / b)            # 3.333...\n",
    "print(\"Floor Division:\", a // b)     # 3\n",
    "print(\"Modulus:\", a % b)             # 1\n",
    "print(\"Exponentiation:\", a ** b)     # 1000\n"
   ]
  },
  {
   "cell_type": "code",
   "execution_count": 160,
   "metadata": {},
   "outputs": [],
   "source": [
    "VAR_1 = 5\n",
    "VAR_2 = 25\n"
   ]
  },
  {
   "cell_type": "code",
   "execution_count": 161,
   "metadata": {},
   "outputs": [
    {
     "name": "stdout",
     "output_type": "stream",
     "text": [
      " 5  =  25  : False\n",
      " 5  !=  25 : True\n",
      " 5  <  25  : True\n",
      " 5  >  25  : False\n",
      " 5  <=  25 : True\n",
      " 5  >=  25 : True\n"
     ]
    }
   ],
   "source": [
    "print (F' {VAR_1}  =  {VAR_2}  : {VAR_1 == VAR_2}' )\n",
    "print (F' {VAR_1}  !=  {VAR_2} : {VAR_1 != VAR_2}' )\n",
    "print (F' {VAR_1}  <  {VAR_2}  : {VAR_1 < VAR_2}' )\n",
    "print (F' {VAR_1}  >  {VAR_2}  : {VAR_1 > VAR_2}' )\n",
    "print (F' {VAR_1}  <=  {VAR_2} : {VAR_1 <= VAR_2}' )\n",
    "print (F' {VAR_1}  >=  {VAR_2} : {VAR_1 != VAR_2}' )"
   ]
  },
  {
   "cell_type": "code",
   "execution_count": 162,
   "metadata": {},
   "outputs": [],
   "source": [
    "Circle_area = 3.14 * VAR_1**2"
   ]
  },
  {
   "cell_type": "code",
   "execution_count": 163,
   "metadata": {},
   "outputs": [
    {
     "name": "stdout",
     "output_type": "stream",
     "text": [
      "78.5\n"
     ]
    }
   ],
   "source": [
    "print(Circle_area)"
   ]
  },
  {
   "cell_type": "code",
   "execution_count": 164,
   "metadata": {},
   "outputs": [],
   "source": [
    "radius = int(input(\"enter radious :  \"))"
   ]
  },
  {
   "cell_type": "code",
   "execution_count": 165,
   "metadata": {},
   "outputs": [],
   "source": [
    "Circle_area = 3.14 * radius**2"
   ]
  },
  {
   "cell_type": "code",
   "execution_count": 166,
   "metadata": {},
   "outputs": [
    {
     "name": "stdout",
     "output_type": "stream",
     "text": [
      "Area of circle when radius is 1  :   3.14\n"
     ]
    }
   ],
   "source": [
    "print(f\"Area of circle when radius is {radius}  :   {Circle_area}\" )"
   ]
  },
  {
   "cell_type": "code",
   "execution_count": 167,
   "metadata": {},
   "outputs": [
    {
     "name": "stdout",
     "output_type": "stream",
     "text": [
      "The area of rectangle when l =2.0 :  b = 3.0 = 6.0\n"
     ]
    }
   ],
   "source": [
    "length = float(input(\"Enter length   :   \"))\n",
    "Breadth = float(input(\"Enter Breadth : \"))\n",
    "Rectangle_area = length * Breadth\n",
    "print(f'The area of rectangle when l ={length} :  b = {Breadth} = {Rectangle_area}')"
   ]
  },
  {
   "cell_type": "code",
   "execution_count": 168,
   "metadata": {},
   "outputs": [
    {
     "name": "stdout",
     "output_type": "stream",
     "text": [
      "Fifth Exponenet of 4 : 1024\n"
     ]
    }
   ],
   "source": [
    "Number = int(input(\"Enter the number\"))\n",
    "reslut = Number**5 \n",
    "print(f\"Fifth Exponenet of {Number} : {reslut}\"  )"
   ]
  },
  {
   "cell_type": "code",
   "execution_count": 169,
   "metadata": {},
   "outputs": [
    {
     "name": "stdout",
     "output_type": "stream",
     "text": [
      "Bye :)\n"
     ]
    }
   ],
   "source": [
    "marks = int(input(\"Enter the marks\"))\n",
    "if marks > 40:\n",
    "    print(\"pass\")\n",
    "    print(\"Party\")\n",
    "print(\"Bye :)\")"
   ]
  },
  {
   "cell_type": "code",
   "execution_count": 170,
   "metadata": {},
   "outputs": [
    {
     "name": "stdout",
     "output_type": "stream",
     "text": [
      "pass\n",
      "Party\n",
      "Bye :)\n"
     ]
    }
   ],
   "source": [
    "marks = int(input(\"Enter the marks\"))\n",
    "if marks > 40:\n",
    "    print(\"pass\")\n",
    "    print(\"Party\")\n",
    "else:\n",
    "    print(\"failed:(\")\n",
    "    print(\"Better luck next time\")\n",
    "print(\"Bye :)\")"
   ]
  },
  {
   "cell_type": "code",
   "execution_count": 172,
   "metadata": {},
   "outputs": [
    {
     "name": "stdout",
     "output_type": "stream",
     "text": [
      "You are tall\n"
     ]
    }
   ],
   "source": [
    "VAR_1 = float(input(\"height : \"))\n",
    "if VAR_1 > 5.8:\n",
    "        print(\"You are tall\")\n",
    "else:\n",
    "    print(\"Normal height\")"
   ]
  },
  {
   "cell_type": "code",
   "execution_count": 8,
   "metadata": {},
   "outputs": [
    {
     "name": "stdout",
     "output_type": "stream",
     "text": [
      "1\n",
      "3\n",
      "9\n"
     ]
    }
   ],
   "source": [
    "n = int(input(\"Enter a number: \"))\n",
    "for i in range(n):\n",
    "    res = n ** i\n",
    "    print(res)\n",
    "\n",
    "    "
   ]
  },
  {
   "cell_type": "code",
   "execution_count": 5,
   "metadata": {},
   "outputs": [
    {
     "data": {
      "text/plain": [
       "str"
      ]
     },
     "execution_count": 5,
     "metadata": {},
     "output_type": "execute_result"
    }
   ],
   "source": [
    "type(n)"
   ]
  }
 ],
 "metadata": {
  "kernelspec": {
   "display_name": "Python 3 (ipykernel)",
   "language": "python",
   "name": "python3"
  },
  "language_info": {
   "codemirror_mode": {
    "name": "ipython",
    "version": 3
   },
   "file_extension": ".py",
   "mimetype": "text/x-python",
   "name": "python",
   "nbconvert_exporter": "python",
   "pygments_lexer": "ipython3",
   "version": "3.12.4"
  }
 },
 "nbformat": 4,
 "nbformat_minor": 4
}
