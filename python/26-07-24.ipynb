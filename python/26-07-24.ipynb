{
 "cells": [
  {
   "cell_type": "code",
   "execution_count": 74,
   "id": "38c1f4b2",
   "metadata": {},
   "outputs": [],
   "source": [
    "# Creating a dictionary to represent a car\n",
    "car = {\n",
    "    'make': 'Toyota',\n",
    "    'model': 'Camry',\n",
    "    'year': 2021,\n",
    "    'color': 'blue',\n",
    "    'mileage': 15000,\n",
    "    'is_electric': False,\n",
    "    \n",
    "    }\n"
   ]
  },
  {
   "cell_type": "code",
   "execution_count": 75,
   "id": "d08a0fed",
   "metadata": {},
   "outputs": [
    {
     "data": {
      "text/plain": [
       "{'make': 'Toyota',\n",
       " 'model': 'Camry',\n",
       " 'year': 2021,\n",
       " 'color': 'blue',\n",
       " 'mileage': 15000,\n",
       " 'is_electric': False}"
      ]
     },
     "execution_count": 75,
     "metadata": {},
     "output_type": "execute_result"
    }
   ],
   "source": [
    "car"
   ]
  },
  {
   "cell_type": "code",
   "execution_count": 76,
   "id": "516a89ca",
   "metadata": {},
   "outputs": [
    {
     "data": {
      "text/plain": [
       "{'make': 'Toyota',\n",
       " 'model': 'Camry',\n",
       " 'year': 2021,\n",
       " 'color': 'blue',\n",
       " 'mileage': 15000,\n",
       " 'is_electric': False,\n",
       " 'Geare': 'Manual',\n",
       " 'sunruf': False,\n",
       " 'key_vale': ''}"
      ]
     },
     "execution_count": 76,
     "metadata": {},
     "output_type": "execute_result"
    }
   ],
   "source": [
    "car_update = {'Geare':'Manual','sunruf':False,'key_vale':\"\"}\n",
    "car.update(car_update)\n",
    "car"
   ]
  },
  {
   "cell_type": "code",
   "execution_count": 77,
   "id": "7d353e21-4552-43be-a109-fe3038c60b0e",
   "metadata": {},
   "outputs": [],
   "source": [
    "student = {'ID' :[101,102,103],\n",
    "           'NAME':['KAKANI','MOHITH','KRISHNA'],\n",
    "           'BRANCH':['CSE','IT','ECE'],\n",
    "           'MARKS':[62,65,66]}\n"
   ]
  },
  {
   "cell_type": "code",
   "execution_count": 78,
   "id": "2e527852",
   "metadata": {},
   "outputs": [
    {
     "data": {
      "text/plain": [
       "{'ID': [101, 102, 103],\n",
       " 'NAME': ['KAKANI', 'MOHITH', 'KRISHNA'],\n",
       " 'BRANCH': ['CSE', 'IT', 'ECE'],\n",
       " 'MARKS': [62, 65, 66]}"
      ]
     },
     "execution_count": 78,
     "metadata": {},
     "output_type": "execute_result"
    }
   ],
   "source": [
    "student"
   ]
  },
  {
   "cell_type": "code",
   "execution_count": 79,
   "id": "40c7bf96",
   "metadata": {},
   "outputs": [],
   "source": [
    "Bats = {'BRAND':['MRF','SG','KOOKOBURA'],\n",
    "        'MODEL':['VK','KLR','MAXI'],\n",
    "        'EDITION':[2024,2023,2022]\n",
    "    \n",
    "}"
   ]
  },
  {
   "cell_type": "code",
   "execution_count": 80,
   "id": "0254b8ca",
   "metadata": {},
   "outputs": [
    {
     "data": {
      "text/plain": [
       "{'BRAND': ['MRF', 'SG', 'KOOKOBURA'],\n",
       " 'MODEL': ['VK', 'KLR', 'MAXI'],\n",
       " 'EDITION': [2024, 2023, 2022]}"
      ]
     },
     "execution_count": 80,
     "metadata": {},
     "output_type": "execute_result"
    }
   ],
   "source": [
    "Bats"
   ]
  },
  {
   "cell_type": "code",
   "execution_count": 83,
   "id": "65524f22",
   "metadata": {},
   "outputs": [
    {
     "name": "stdout",
     "output_type": "stream",
     "text": [
      "Updated Bats Dictionary:\n",
      "{'BRAND': ['MRF', 'SG', 'KOOKABURRA', 'GRAY-NICOLLS', 'CA', 'PUMA'], 'MODEL': ['VK', 'KLR', 'MAXI', 'GN', 'CA Plus', 'Puma Evo'], 'EDITION': [2024, 2023, 2022, 2024, 2023, 2022]}\n"
     ]
    }
   ],
   "source": [
    "\n",
    "\n",
    "# Original dictionary\n",
    "Bats = {\n",
    "    'BRAND': ['MRF', 'SG', 'KOOKABURRA'],\n",
    "    'MODEL': ['VK', 'KLR', 'MAXI'],\n",
    "    'EDITION': [2024, 2023, 2022]\n",
    "}\n",
    "\n",
    "# Adding more values\n",
    "Bats['BRAND'].extend(['GRAY-NICOLLS', 'CA', 'PUMA'])\n",
    "Bats['MODEL'].extend(['GN', 'CA Plus', 'Puma Evo'])\n",
    "Bats['EDITION'].extend([2024, 2023, 2022])\n",
    "\n",
    "# Print the updated dictionary\n",
    "print(\"Updated Bats Dictionary:\")\n",
    "print(Bats)"
   ]
  },
  {
   "cell_type": "code",
   "execution_count": 84,
   "id": "9b92bb5e",
   "metadata": {},
   "outputs": [
    {
     "data": {
      "text/plain": [
       "['VK', 'KLR', 'MAXI', 'GN', 'CA Plus', 'Puma Evo']"
      ]
     },
     "execution_count": 84,
     "metadata": {},
     "output_type": "execute_result"
    }
   ],
   "source": [
    "Bats['MODEL']\n"
   ]
  },
  {
   "cell_type": "code",
   "execution_count": 85,
   "id": "193c7433",
   "metadata": {},
   "outputs": [
    {
     "name": "stdout",
     "output_type": "stream",
     "text": [
      "['VK', 'KLR', 'MAXI', 'GN', 'CA Plus', 'Puma Evo']\n",
      "['MRF', 'SG', 'KOOKABURRA', 'GRAY-NICOLLS', 'CA', 'PUMA']\n",
      "[2024, 2023, 2022, 2024, 2023, 2022]\n"
     ]
    }
   ],
   "source": [
    "keys = ['MODEL','BRAND','EDITION']\n",
    "for i in  keys:\n",
    "    print(Bats.get(i))"
   ]
  },
  {
   "cell_type": "code",
   "execution_count": 87,
   "id": "423b65e7",
   "metadata": {},
   "outputs": [
    {
     "name": "stdout",
     "output_type": "stream",
     "text": [
      "Updated Cars Dictionary:\n",
      "{'BRAND': ['Toyota', 'Ford', 'Honda', 'BMW', 'Audi', 'Mercedes'], 'MODEL': ['Camry', 'Mustang', 'Civic', 'X5', 'A4', 'C-Class'], 'YEAR': [2021, 2022, 2023, 2024, 2023, 2024], 'PRICE': [25000, 30000, 22000, 55000, 40000, 60000]}\n"
     ]
    }
   ],
   "source": [
    "# Original dictionary\n",
    "Cars = {\n",
    "    'BRAND': ['Toyota', 'Ford', 'Honda'],\n",
    "    'MODEL': ['Camry', 'Mustang', 'Civic'],\n",
    "    'YEAR': [2021, 2022, 2023],\n",
    "    'PRICE': [25000, 30000, 22000]\n",
    "}\n",
    "\n",
    "# Adding more values\n",
    "Cars['BRAND'].extend(['BMW', 'Audi', 'Mercedes'])\n",
    "Cars['MODEL'].extend(['X5', 'A4', 'C-Class'])\n",
    "Cars['YEAR'].extend([2024, 2023, 2024])\n",
    "Cars['PRICE'].extend([55000, 40000, 60000])\n",
    "\n",
    "# Print the updated dictionary\n",
    "print(\"Updated Cars Dictionary:\")\n",
    "print(Cars)\n"
   ]
  },
  {
   "cell_type": "code",
   "execution_count": 88,
   "id": "58ebe94a",
   "metadata": {},
   "outputs": [
    {
     "data": {
      "text/plain": [
       "{'BRAND': ['Toyota', 'Ford', 'Honda', 'BMW', 'Audi', 'Mercedes'],\n",
       " 'MODEL': ['Camry', 'Mustang', 'Civic', 'X5', 'A4', 'C-Class'],\n",
       " 'YEAR': [2021, 2022, 2023, 2024, 2023, 2024],\n",
       " 'PRICE': [25000, 30000, 22000, 55000, 40000, 60000]}"
      ]
     },
     "execution_count": 88,
     "metadata": {},
     "output_type": "execute_result"
    }
   ],
   "source": [
    "Cars "
   ]
  },
  {
   "cell_type": "code",
   "execution_count": 98,
   "id": "2275352d",
   "metadata": {},
   "outputs": [
    {
     "name": "stdout",
     "output_type": "stream",
     "text": [
      "*MODEL*\n",
      "Civic\n",
      "*BRAND*\n",
      "Honda\n",
      "*YEAR*\n",
      "2023\n"
     ]
    }
   ],
   "source": [
    "keys = ['MODEL','BRAND','YEAR']\n",
    "for i in keys:\n",
    "    print(\"*\"+i+\"*\")\n",
    "    print(Cars.get(i)[2])"
   ]
  },
  {
   "cell_type": "code",
   "execution_count": 99,
   "id": "5e2641c1",
   "metadata": {},
   "outputs": [],
   "source": [
    "vehicle = {'Brand':['Suzuki','Tata','Mahindra'],\n",
    "            'Model':['Ignis','Nexon','Thar'],\n",
    "          'color':['White','Blue','Red'],\n",
    "          'Price':[680000,1250000,1680000],\n",
    "          'Mileage':[18.5,15.5,14.3],\n",
    "          'Fuel':['Petrol','EV','Diesel']}"
   ]
  },
  {
   "cell_type": "code",
   "execution_count": 106,
   "id": "84818ced",
   "metadata": {},
   "outputs": [],
   "source": [
    "student = {'ID':101,\n",
    "          'name':'Ashok',\n",
    "          'result':{'maths':68,'science':62,'language':75},\n",
    "          'address':{'area':'Kalyan Nagar','city':'Nagpur','pin':565654},\n",
    "          'state':'Maharashtra'}"
   ]
  },
  {
   "cell_type": "code",
   "execution_count": 107,
   "id": "b16abf2e",
   "metadata": {},
   "outputs": [
    {
     "data": {
      "text/plain": [
       "{'ID': 101,\n",
       " 'name': 'Ashok',\n",
       " 'result': {'maths': 68, 'science': 62, 'language': 75},\n",
       " 'address': {'area': 'Kalyan Nagar', 'city': 'Nagpur', 'pin': 565654},\n",
       " 'state': 'Maharashtra'}"
      ]
     },
     "execution_count": 107,
     "metadata": {},
     "output_type": "execute_result"
    }
   ],
   "source": [
    "student"
   ]
  },
  {
   "cell_type": "code",
   "execution_count": 110,
   "id": "8752530a",
   "metadata": {},
   "outputs": [
    {
     "data": {
      "text/plain": [
       "'Nagpur'"
      ]
     },
     "execution_count": 110,
     "metadata": {},
     "output_type": "execute_result"
    }
   ],
   "source": [
    "student['address']['city']"
   ]
  },
  {
   "cell_type": "code",
   "execution_count": 114,
   "id": "88d0b5e9",
   "metadata": {},
   "outputs": [],
   "source": [
    "student['result']['history']=58\n"
   ]
  },
  {
   "cell_type": "code",
   "execution_count": 118,
   "id": "ff86d941",
   "metadata": {},
   "outputs": [
    {
     "data": {
      "text/plain": [
       "{'maths': 68, 'science': 62, 'language': 65, 'history': 58}"
      ]
     },
     "execution_count": 118,
     "metadata": {},
     "output_type": "execute_result"
    }
   ],
   "source": [
    "#change marks of language to 65\n",
    "student['result']\n",
    "student['result']['language'] = 65\n",
    "student['result']"
   ]
  },
  {
   "cell_type": "code",
   "execution_count": 130,
   "id": "03567d7c",
   "metadata": {},
   "outputs": [
    {
     "ename": "TypeError",
     "evalue": "'int' object is not callable",
     "output_type": "error",
     "traceback": [
      "\u001b[1;31m---------------------------------------------------------------------------\u001b[0m",
      "\u001b[1;31mTypeError\u001b[0m                                 Traceback (most recent call last)",
      "Cell \u001b[1;32mIn[130], line 4\u001b[0m\n\u001b[0;32m      2\u001b[0m word \u001b[38;5;241m=\u001b[39m [\u001b[38;5;124m\"\u001b[39m\u001b[38;5;124msai\u001b[39m\u001b[38;5;124m\"\u001b[39m,\u001b[38;5;124m\"\u001b[39m\u001b[38;5;124mkakani\u001b[39m\u001b[38;5;124m\"\u001b[39m]\n\u001b[0;32m      3\u001b[0m \u001b[38;5;28;01mfor\u001b[39;00m i \u001b[38;5;129;01min\u001b[39;00m word:\n\u001b[1;32m----> 4\u001b[0m     \u001b[38;5;28;43mprint\u001b[39;49m\u001b[43m(\u001b[49m\u001b[43mi\u001b[49m\u001b[43m)\u001b[49m\n\u001b[0;32m      5\u001b[0m     length_ \u001b[38;5;241m=\u001b[39m \u001b[38;5;28mstr\u001b[39m(\u001b[38;5;28mlen\u001b[39m(word))\n\u001b[0;32m      6\u001b[0m     \u001b[38;5;28mprint\u001b[39m(length__)\n",
      "\u001b[1;31mTypeError\u001b[0m: 'int' object is not callable"
     ]
    }
   ],
   "source": [
    "## Dictionary comprehension\n",
    "word = [\"sai\",\"kakani\"]\n",
    "for i in word:\n",
    "    print(i)\n",
    "    length_ = str(len(i))\n",
    "    print(length__)"
   ]
  }
 ],
 "metadata": {
  "kernelspec": {
   "display_name": "Python 3 (ipykernel)",
   "language": "python",
   "name": "python3"
  },
  "language_info": {
   "codemirror_mode": {
    "name": "ipython",
    "version": 3
   },
   "file_extension": ".py",
   "mimetype": "text/x-python",
   "name": "python",
   "nbconvert_exporter": "python",
   "pygments_lexer": "ipython3",
   "version": "3.12.4"
  }
 },
 "nbformat": 4,
 "nbformat_minor": 5
}
