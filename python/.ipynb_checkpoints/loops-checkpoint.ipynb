{
 "cells": [
  {
   "cell_type": "markdown",
   "metadata": {},
   "source": [
    "### 1. Print all even numbers from 1 to 100.\n"
   ]
  },
  {
   "cell_type": "code",
   "execution_count": null,
   "metadata": {},
   "outputs": [],
   "source": []
  },
  {
   "cell_type": "code",
   "execution_count": 23,
   "metadata": {},
   "outputs": [
    {
     "name": "stdout",
     "output_type": "stream",
     "text": [
      "2\n",
      "4\n",
      "6\n",
      "8\n"
     ]
    }
   ],
   "source": [
    "for num_1 in range (1,10):\n",
    "    num_2 = num_1%2\n",
    "    if(num_2 == 0):\n",
    "        print(num_1)"
   ]
  },
  {
   "cell_type": "markdown",
   "metadata": {},
   "source": [
    "### Calculate the factorial of a number"
   ]
  },
  {
   "cell_type": "code",
   "execution_count": 24,
   "metadata": {},
   "outputs": [
    {
     "name": "stdout",
     "output_type": "stream",
     "text": [
      "1\n"
     ]
    }
   ],
   "source": [
    "fact = int(input(\"enter number\"))\n",
    "for i in range(1,fact):\n",
    "    if fact % i == 0:\n",
    "        print(i)"
   ]
  },
  {
   "cell_type": "markdown",
   "metadata": {},
   "source": [
    "### 3. Find the sum of all prime numbers up to a specified number."
   ]
  },
  {
   "cell_type": "code",
   "execution_count": 25,
   "metadata": {},
   "outputs": [
    {
     "name": "stdout",
     "output_type": "stream",
     "text": [
      "5 > 5 :(\n"
     ]
    }
   ],
   "source": [
    "c_num = []\n",
    "P_num = []\n",
    "num_1 = int(input(\"Enter the start value > 1 --> \"))\n",
    "num_2 = int(input(\"Enter the end value N+1 -->\"))\n",
    "if num_1<num_2:\n",
    "    for a in range(num_1, num_2):\n",
    "        #print(\"start\",a)\n",
    "        if a > 1:\n",
    "            for p in range(2, a):\n",
    "            #  print(f\"Before start a==> {a} and p ==>  {p}\")\n",
    "                pr_num = a % p          \n",
    "            # print(f\"after  start a==> {a}  , p ==>  {p}\")\n",
    "                c_num.append(pr_num)\n",
    "                #print(\"pr_num\",pr_num)\n",
    "                #print(c_num)\n",
    "                \n",
    "            if 0 not in c_num:\n",
    "                P_num.append(a)\n",
    "                \n",
    "            c_num.clear()\n",
    "        # print(\"end\")\n",
    "\n",
    "    c_num.clear()\n",
    "#print(c_num)\n",
    "    print(P_num)\n",
    "else:\n",
    "    print(f'{num_1} > {num_2} :(')\n",
    "\n",
    "    \n",
    "    ## sum(P_num)\n",
    "\n"
   ]
  },
  {
   "cell_type": "markdown",
   "metadata": {},
   "source": [
    "### Generate a multiplication table for a given number.\n"
   ]
  },
  {
   "cell_type": "code",
   "execution_count": 33,
   "metadata": {},
   "outputs": [
    {
     "name": "stdout",
     "output_type": "stream",
     "text": [
      "5 * 0 = 0\n",
      "5 * 1 = 5\n",
      "5 * 2 = 10\n",
      "5 * 3 = 15\n",
      "5 * 4 = 20\n"
     ]
    }
   ],
   "source": [
    "i = int(input(\"Enter the start value > 1 --> \"))\n",
    "a = int(input(\"Enter the start value > 1 --> \"))\n",
    "for i  in range(a):\n",
    "    b= a*i\n",
    "   # print(b)\n",
    "    print(f'{a} * {i} = {b}')"
   ]
  },
  {
   "cell_type": "markdown",
   "metadata": {},
   "source": [
    "### intrest 1. Create a program for calculating simple interest by taking principal amount, rate of interest and term values from user.\n"
   ]
  },
  {
   "cell_type": "code",
   "execution_count": 36,
   "metadata": {},
   "outputs": [
    {
     "name": "stdout",
     "output_type": "stream",
     "text": [
      "50000.0\n"
     ]
    }
   ],
   "source": [
    "amount = int(input(\"Enter Number -->\"))\n",
    "intrest_ = int(input(\"Enter intrest -->  \")) \n",
    "time_period  =int(input(\"enter time period -->\"))\n",
    "\n",
    "simple_intrest = amount * (intrest_/100) * time_period\n",
    "print(simple_intrest)"
   ]
  },
  {
   "cell_type": "markdown",
   "metadata": {},
   "source": [
    "### 7. Print the first 10 natural numbers in reverse order."
   ]
  },
  {
   "cell_type": "code",
   "execution_count": 1,
   "metadata": {},
   "outputs": [
    {
     "name": "stdout",
     "output_type": "stream",
     "text": [
      "9\n",
      "8\n",
      "7\n",
      "6\n",
      "5\n",
      "4\n",
      "3\n",
      "2\n",
      "1\n"
     ]
    }
   ],
   "source": [
    "num_1 = int(input(\"Enter the number \"))\n",
    "i = 0\n",
    "while num_1 >i:\n",
    "    print(num_1)\n",
    "    num_1 = num_1 - 1\n",
    "    "
   ]
  },
  {
   "cell_type": "markdown",
   "metadata": {},
   "source": [
    "Determine if a number is a palindrome.\n"
   ]
  },
  {
   "cell_type": "code",
   "execution_count": 17,
   "metadata": {},
   "outputs": [
    {
     "name": "stdout",
     "output_type": "stream",
     "text": [
      "aba\n",
      "palindrome\n"
     ]
    }
   ],
   "source": [
    "text_1 = input()\n",
    "\n",
    "print(text_1)\n",
    "\n",
    "\n",
    "if(text_1 == (text_1[::-1])):\n",
    "    print(\"palindrome\")\n",
    "else:\n",
    "    print(\"Not a palindrome\")"
   ]
  },
  {
   "cell_type": "markdown",
   "metadata": {},
   "source": [
    "### Calculate the sum of squares of first n natural numbers.\n"
   ]
  },
  {
   "cell_type": "code",
   "execution_count": 25,
   "metadata": {},
   "outputs": [
    {
     "name": "stdout",
     "output_type": "stream",
     "text": [
      "0\n",
      "[0]\n",
      "0\n",
      "1\n",
      "[0, 1]\n",
      "1\n",
      "4\n",
      "[0, 1, 4]\n",
      "5\n"
     ]
    }
   ],
   "source": [
    "my_list=[]\n",
    "num_1 = int(input(\"Enter end range -->\"))\n",
    "Sqr_valu =0\n",
    "for i in range(num_1):\n",
    "    \n",
    "    Sqr_valu = i**2\n",
    "    print(Sqr_valu)\n",
    "    my_list.append(Sqr_valu)\n",
    "    print(my_list)\n",
    "    a=sum(my_list)\n",
    "    print(a)\n",
    "    "
   ]
  },
  {
   "cell_type": "markdown",
   "metadata": {},
   "source": [
    "## loops"
   ]
  },
  {
   "cell_type": "code",
   "execution_count": null,
   "metadata": {},
   "outputs": [],
   "source": []
  },
  {
   "cell_type": "code",
   "execution_count": 11,
   "metadata": {},
   "outputs": [
    {
     "name": "stdout",
     "output_type": "stream",
     "text": [
      "Enter the number --> 80\n"
     ]
    },
    {
     "name": "stdout",
     "output_type": "stream",
     "text": [
      "80 1\n",
      "80 2\n",
      "80 4\n",
      "80 5\n",
      "80 8\n",
      "80 10\n",
      "80 16\n",
      "80 20\n",
      "80 40\n",
      "80 is divided by [1, 2, 4, 5, 8, 10, 16, 20, 40]\n"
     ]
    }
   ],
   "source": [
    "GCD_list = []\n",
    "num_1 = int(input(\"Enter the number -->\"))\n",
    "for i in range (1,num_1):\n",
    " #   print(f'1 --> {i}')\n",
    "  #  print(f'2 --> {num_1}')\n",
    "    if i < num_1:\n",
    "        res = num_1%i\n",
    "        if(res == 0):\n",
    "            print(num_1,i)\n",
    "            GCD_list.append(i)\n",
    "print(f'{num_1} is divided by {GCD_list}')"
   ]
  },
  {
   "cell_type": "code",
   "execution_count": 1,
   "metadata": {},
   "outputs": [],
   "source": [
    "### Count the number of vowels and consonants in a string.\n"
   ]
  },
  {
   "cell_type": "code",
   "execution_count": 5,
   "metadata": {},
   "outputs": [
    {
     "name": "stdin",
     "output_type": "stream",
     "text": [
      "Enter the string --> sai\n"
     ]
    },
    {
     "name": "stdout",
     "output_type": "stream",
     "text": [
      "3\n"
     ]
    },
    {
     "ename": "NameError",
     "evalue": "name 'rang' is not defined",
     "output_type": "error",
     "traceback": [
      "\u001b[1;31m---------------------------------------------------------------------------\u001b[0m",
      "\u001b[1;31mNameError\u001b[0m                                 Traceback (most recent call last)",
      "Cell \u001b[1;32mIn[5], line 4\u001b[0m\n\u001b[0;32m      2\u001b[0m w\u001b[38;5;241m=\u001b[39m\u001b[38;5;28mlen\u001b[39m(WORD)\n\u001b[0;32m      3\u001b[0m \u001b[38;5;28mprint\u001b[39m(w)\n\u001b[1;32m----> 4\u001b[0m \u001b[38;5;28;01mfor\u001b[39;00m i \u001b[38;5;129;01min\u001b[39;00m \u001b[43mrang\u001b[49m(w):\n\u001b[0;32m      5\u001b[0m     \u001b[38;5;28mprint\u001b[39m(w[i::])\n",
      "\u001b[1;31mNameError\u001b[0m: name 'rang' is not defined"
     ]
    }
   ],
   "source": [
    "WORD = input(\"Enter the string -->\")\n",
    "w=len(WORD)\n",
    "print(w)\n",
    "for i in rang(w):\n",
    "    print(w[i::])\n",
    "    \n",
    "    "
   ]
  },
  {
   "cell_type": "code",
   "execution_count": null,
   "metadata": {},
   "outputs": [],
   "source": []
  }
 ],
 "metadata": {
  "kernelspec": {
   "display_name": "Python 3 (ipykernel)",
   "language": "python",
   "name": "python3"
  },
  "language_info": {
   "codemirror_mode": {
    "name": "ipython",
    "version": 3
   },
   "file_extension": ".py",
   "mimetype": "text/x-python",
   "name": "python",
   "nbconvert_exporter": "python",
   "pygments_lexer": "ipython3",
   "version": "3.12.4"
  }
 },
 "nbformat": 4,
 "nbformat_minor": 4
}
