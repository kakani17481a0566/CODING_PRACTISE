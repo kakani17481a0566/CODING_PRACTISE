{
 "cells": [
  {
   "cell_type": "code",
   "execution_count": 1,
   "id": "22e28023-6b98-42ff-a781-d084d9157508",
   "metadata": {},
   "outputs": [],
   "source": [
    "list_new = [1,11,21,41,31,51,31,91]"
   ]
  },
  {
   "cell_type": "code",
   "execution_count": 2,
   "id": "0f9f947f-738a-4239-b9f1-d84649bea6e6",
   "metadata": {},
   "outputs": [
    {
     "data": {
      "text/plain": [
       "8"
      ]
     },
     "execution_count": 2,
     "metadata": {},
     "output_type": "execute_result"
    }
   ],
   "source": [
    "len(list_new)"
   ]
  },
  {
   "cell_type": "code",
   "execution_count": 3,
   "id": "35e24026-3f6f-4338-a177-48d1c300e22e",
   "metadata": {},
   "outputs": [
    {
     "name": "stdout",
     "output_type": "stream",
     "text": [
      "[1, 11, 21, 41, 31, 51, 31, 91]\n"
     ]
    }
   ],
   "source": [
    "print(list_new)"
   ]
  },
  {
   "cell_type": "code",
   "execution_count": 4,
   "id": "e41aead4-0a6c-4513-a8d0-1799ee999f45",
   "metadata": {},
   "outputs": [
    {
     "name": "stdout",
     "output_type": "stream",
     "text": [
      "278\n",
      "1\n",
      "91\n"
     ]
    }
   ],
   "source": [
    "print(sum(list_new))\n",
    "print(min(list_new))\n",
    "print(max(list_new))"
   ]
  },
  {
   "cell_type": "code",
   "execution_count": 5,
   "id": "18dde066-3c2b-4043-bd8c-54fb956b5b6b",
   "metadata": {},
   "outputs": [],
   "source": [
    "grocery = ['milk','bread','butter','cashews','alomnds','rice']"
   ]
  },
  {
   "cell_type": "code",
   "execution_count": 6,
   "id": "718c1c37-223a-4633-ac1d-4691668d1a82",
   "metadata": {},
   "outputs": [],
   "source": [
    "# enumerate will convert grocery to a address code\n",
    "grocery_enum_address = enumerate(grocery)"
   ]
  },
  {
   "cell_type": "code",
   "execution_count": 7,
   "id": "4106312e-8d8d-4226-b79c-5a4ef88e9206",
   "metadata": {},
   "outputs": [
    {
     "name": "stdout",
     "output_type": "stream",
     "text": [
      "<enumerate object at 0x00000178FA02C8B0>\n"
     ]
    }
   ],
   "source": [
    "# this is address\n",
    "print(grocery_enum_address)"
   ]
  },
  {
   "cell_type": "code",
   "execution_count": 8,
   "id": "da27f00f-8c70-4f6c-afdd-d13fbe6ae929",
   "metadata": {},
   "outputs": [
    {
     "data": {
      "text/plain": [
       "<enumerate at 0x178fa02c8b0>"
      ]
     },
     "execution_count": 8,
     "metadata": {},
     "output_type": "execute_result"
    }
   ],
   "source": [
    "grocery_enum_address"
   ]
  },
  {
   "cell_type": "code",
   "execution_count": 9,
   "id": "f8c9760d-211f-48d9-8c88-8bc14e14ab8c",
   "metadata": {},
   "outputs": [],
   "source": [
    "#here we are converting address to list this list contain id, value\n",
    "grocery_list_with_id = list(grocery_enum_address)"
   ]
  },
  {
   "cell_type": "code",
   "execution_count": 10,
   "id": "d644d64f-6f82-41ef-bdf7-4d5598f425b2",
   "metadata": {},
   "outputs": [
    {
     "data": {
      "text/plain": [
       "[(0, 'milk'),\n",
       " (1, 'bread'),\n",
       " (2, 'butter'),\n",
       " (3, 'cashews'),\n",
       " (4, 'alomnds'),\n",
       " (5, 'rice')]"
      ]
     },
     "execution_count": 10,
     "metadata": {},
     "output_type": "execute_result"
    }
   ],
   "source": [
    "#id , value\n",
    "grocery_list_with_id"
   ]
  },
  {
   "cell_type": "code",
   "execution_count": 11,
   "id": "0414df90-5fcb-4b34-9fc4-00b023220562",
   "metadata": {},
   "outputs": [
    {
     "name": "stdout",
     "output_type": "stream",
     "text": [
      "0 : (0, 'milk')\n",
      "1 : (1, 'bread')\n",
      "2 : (2, 'butter')\n",
      "3 : (3, 'cashews')\n",
      "4 : (4, 'alomnds')\n",
      "5 : (5, 'rice')\n"
     ]
    }
   ],
   "source": [
    "for id, value in enumerate(grocery_list_with_id):\n",
    "    print(id,':',value)"
   ]
  },
  {
   "cell_type": "code",
   "execution_count": 12,
   "id": "cb4c692a-3bd8-4747-9f20-18201f8c6cea",
   "metadata": {},
   "outputs": [],
   "source": [
    "#nestedlist\n",
    "nest_list = [['India','Edubridge','Mumbai'],[12,42,21,24],[101,'Priya','Admin',56000]]"
   ]
  },
  {
   "cell_type": "code",
   "execution_count": 13,
   "id": "dd826dd9-19b5-45ea-a386-3c7a498b852b",
   "metadata": {},
   "outputs": [
    {
     "data": {
      "text/plain": [
       "3"
      ]
     },
     "execution_count": 13,
     "metadata": {},
     "output_type": "execute_result"
    }
   ],
   "source": [
    "len(nest_list)"
   ]
  },
  {
   "cell_type": "code",
   "execution_count": 14,
   "id": "1b44c577-6542-489b-a56a-4d7f46492610",
   "metadata": {},
   "outputs": [
    {
     "data": {
      "text/plain": [
       "[101, 'Priya', 'Admin', 56000]"
      ]
     },
     "execution_count": 14,
     "metadata": {},
     "output_type": "execute_result"
    }
   ],
   "source": [
    "nest_list[2]"
   ]
  },
  {
   "cell_type": "code",
   "execution_count": 15,
   "id": "9e7d1ec6-f06a-4f29-ae3c-6dc76e1c4f99",
   "metadata": {},
   "outputs": [
    {
     "data": {
      "text/plain": [
       "'Priya'"
      ]
     },
     "execution_count": 15,
     "metadata": {},
     "output_type": "execute_result"
    }
   ],
   "source": [
    "nest_list[2][1]"
   ]
  },
  {
   "cell_type": "code",
   "execution_count": 16,
   "id": "cf195e6b-fa4d-4ee9-92af-3dd3e86aa2e6",
   "metadata": {},
   "outputs": [
    {
     "data": {
      "text/plain": [
       "[42, 21, 24]"
      ]
     },
     "execution_count": 16,
     "metadata": {},
     "output_type": "execute_result"
    }
   ],
   "source": [
    "nest_list[1][1:]"
   ]
  },
  {
   "cell_type": "code",
   "execution_count": 17,
   "id": "090d7b8f-8790-476b-9c51-31823acf49d4",
   "metadata": {},
   "outputs": [],
   "source": [
    "alpha = ['a','b','c','d','f']"
   ]
  },
  {
   "cell_type": "code",
   "execution_count": 18,
   "id": "e14f6199-1723-4c88-b455-ad7766105fed",
   "metadata": {},
   "outputs": [
    {
     "name": "stdout",
     "output_type": "stream",
     "text": [
      "a\n",
      "b\n",
      "c\n",
      "d\n",
      "f\n",
      "['a', 'b', 'c', 'd', 'f']\n"
     ]
    }
   ],
   "source": [
    "alpha = ['a', 'b', 'c', 'd', 'f']\n",
    "copy_alpha = []\n",
    "for item in alpha:\n",
    "    print(item)\n",
    "    copy_alpha.append(item)\n",
    "\n",
    "print(copy_alpha)  "
   ]
  },
  {
   "cell_type": "code",
   "execution_count": 19,
   "id": "be3a0e04-19e6-446b-8f04-5eb8775d7277",
   "metadata": {},
   "outputs": [],
   "source": [
    "##list coprehansion\n",
    "squres_evennumber = [ i**2 for i in range(20) if i%2==0]"
   ]
  },
  {
   "cell_type": "code",
   "execution_count": 20,
   "id": "3a79adfb-d62d-42e7-9ece-afc4f6a4d7bf",
   "metadata": {},
   "outputs": [
    {
     "data": {
      "text/plain": [
       "[0, 4, 16, 36, 64, 100, 144, 196, 256, 324]"
      ]
     },
     "execution_count": 20,
     "metadata": {},
     "output_type": "execute_result"
    }
   ],
   "source": [
    "squres_evennumber"
   ]
  },
  {
   "cell_type": "code",
   "execution_count": 21,
   "id": "958b1c6c-6cff-424a-81cb-4279b4b9744a",
   "metadata": {},
   "outputs": [],
   "source": [
    "num_grater_than_4 = [i for i in range(10) if i >4]\n"
   ]
  },
  {
   "cell_type": "code",
   "execution_count": 22,
   "id": "58ddd5e8-280f-40e4-8f5a-633ff081a445",
   "metadata": {},
   "outputs": [
    {
     "data": {
      "text/plain": [
       "[5, 6, 7, 8, 9]"
      ]
     },
     "execution_count": 22,
     "metadata": {},
     "output_type": "execute_result"
    }
   ],
   "source": [
    "num_grater_than_4"
   ]
  },
  {
   "cell_type": "code",
   "execution_count": 23,
   "id": "d2283551-dd19-4b08-9a5c-1c752f8d0af1",
   "metadata": {},
   "outputs": [],
   "source": [
    "#show to cubes of all number 1 to 15\n",
    "NUmber_cube=[num**3 for num in range(1,16) ]"
   ]
  },
  {
   "cell_type": "code",
   "execution_count": 24,
   "id": "3cc505c2-6dbe-49a8-9a7c-52140108da58",
   "metadata": {},
   "outputs": [
    {
     "data": {
      "text/plain": [
       "[1, 8, 27, 64, 125, 216, 343, 512, 729, 1000, 1331, 1728, 2197, 2744, 3375]"
      ]
     },
     "execution_count": 24,
     "metadata": {},
     "output_type": "execute_result"
    }
   ],
   "source": [
    "NUmber_cube"
   ]
  },
  {
   "cell_type": "code",
   "execution_count": 25,
   "id": "1ac5add5-6a25-474f-80b7-8480b6e06858",
   "metadata": {},
   "outputs": [
    {
     "name": "stdout",
     "output_type": "stream",
     "text": [
      "['KAKANI', 'MOHITH', 'KRISHNA', 'SAI']\n",
      "['kakani', 'mohith', 'krishna', 'sai']\n"
     ]
    }
   ],
   "source": [
    "names = ['kakani', 'mohith', 'krishna', 'sai']\n",
    "cap_names = [i.upper() for i in names]\n",
    "print(cap_names)\n",
    "print(names)"
   ]
  },
  {
   "cell_type": "markdown",
   "id": "b5270067-301a-4c8c-955b-35ba67f67d7a",
   "metadata": {},
   "source": [
    "### Tuple\n"
   ]
  },
  {
   "cell_type": "code",
   "execution_count": 26,
   "id": "dfdf1578-1f2a-4c8b-acd6-a1b07a7ab6af",
   "metadata": {},
   "outputs": [
    {
     "data": {
      "text/plain": [
       "tuple"
      ]
     },
     "execution_count": 26,
     "metadata": {},
     "output_type": "execute_result"
    }
   ],
   "source": [
    "tup_le = ('kakani', 'mohith', 'krishna', 'sai',1,2)\n",
    "type(tup_le)"
   ]
  },
  {
   "cell_type": "code",
   "execution_count": 27,
   "id": "6342c0d6-1389-4b36-be47-e909d8f33e9c",
   "metadata": {},
   "outputs": [],
   "source": [
    "x = list(tup_le)\n"
   ]
  },
  {
   "cell_type": "code",
   "execution_count": 28,
   "id": "2d25207d-6b67-4d85-9d85-fb7bef47b54c",
   "metadata": {},
   "outputs": [
    {
     "data": {
      "text/plain": [
       "tuple"
      ]
     },
     "execution_count": 28,
     "metadata": {},
     "output_type": "execute_result"
    }
   ],
   "source": [
    "type(tup_le)\n"
   ]
  },
  {
   "cell_type": "code",
   "execution_count": 29,
   "id": "ed67e25a-5273-41df-9c1d-f31b30a6fbfe",
   "metadata": {},
   "outputs": [
    {
     "data": {
      "text/plain": [
       "list"
      ]
     },
     "execution_count": 29,
     "metadata": {},
     "output_type": "execute_result"
    }
   ],
   "source": [
    "type(x)\n"
   ]
  },
  {
   "cell_type": "code",
   "execution_count": 30,
   "id": "4cf06e49-f9d2-46da-9524-3e1c88d03be4",
   "metadata": {},
   "outputs": [
    {
     "name": "stdout",
     "output_type": "stream",
     "text": [
      "('kakani', 'mohith', 'krishna', 'sai', 1, 2)\n"
     ]
    }
   ],
   "source": [
    "print(tup_le)\n"
   ]
  },
  {
   "cell_type": "code",
   "execution_count": 31,
   "id": "a4f407ec-9182-49b0-8e67-f8f6646f4722",
   "metadata": {},
   "outputs": [
    {
     "name": "stdout",
     "output_type": "stream",
     "text": [
      "['kakani', 'mohith', 'krishna', 'sai', 1, 2]\n"
     ]
    }
   ],
   "source": [
    "print(x)"
   ]
  },
  {
   "cell_type": "code",
   "execution_count": 32,
   "id": "66c8915d-d2ea-4215-b7d3-1f9559bf85c2",
   "metadata": {},
   "outputs": [
    {
     "data": {
      "text/plain": [
       "'krishna'"
      ]
     },
     "execution_count": 32,
     "metadata": {},
     "output_type": "execute_result"
    }
   ],
   "source": [
    "# slicing\n",
    "tup_le[2]"
   ]
  },
  {
   "cell_type": "code",
   "execution_count": 33,
   "id": "3a780284-8066-46a3-9228-841f59df776b",
   "metadata": {},
   "outputs": [
    {
     "data": {
      "text/plain": [
       "('mohith', 'krishna', 'sai', 1, 2)"
      ]
     },
     "execution_count": 33,
     "metadata": {},
     "output_type": "execute_result"
    }
   ],
   "source": [
    "tup_le[1:]"
   ]
  },
  {
   "cell_type": "code",
   "execution_count": 34,
   "id": "3bcd49d0-a502-4d7e-920a-1cf1dd4f1464",
   "metadata": {},
   "outputs": [
    {
     "data": {
      "text/plain": [
       "('kakani', 'krishna', 1)"
      ]
     },
     "execution_count": 34,
     "metadata": {},
     "output_type": "execute_result"
    }
   ],
   "source": [
    "tup_le[::2]"
   ]
  },
  {
   "cell_type": "code",
   "execution_count": 37,
   "id": "c6e36dea-dfd7-4a28-81ea-87e562bcc5ea",
   "metadata": {},
   "outputs": [
    {
     "name": "stdout",
     "output_type": "stream",
     "text": [
      "1\n",
      "745\n",
      "1119\n"
     ]
    }
   ],
   "source": [
    "t1 = (1,2,3,45,44,65,75,45,94,745)\n",
    "print(min(t1))\n",
    "print(max(t1))\n",
    "print(sum(t1))"
   ]
  },
  {
   "cell_type": "code",
   "execution_count": 40,
   "id": "7302b4f7-ba8a-453b-82f6-c7119840daa3",
   "metadata": {},
   "outputs": [
    {
     "name": "stdout",
     "output_type": "stream",
     "text": [
      "2\n",
      "2\n"
     ]
    }
   ],
   "source": [
    "print(t1.count(45))\n",
    "print(t1.count(45))"
   ]
  },
  {
   "cell_type": "code",
   "execution_count": 42,
   "id": "c4007b23-5252-4054-9eab-b10ada017ee8",
   "metadata": {},
   "outputs": [
    {
     "name": "stdout",
     "output_type": "stream",
     "text": [
      "('milk', 'bread', 'butter', 'cashews', 'alomnds', 'rice')\n",
      "<enumerate object at 0x00000178FA608900>\n",
      "((0, 'milk'), (1, 'bread'), (2, 'butter'), (3, 'cashews'), (4, 'alomnds'), (5, 'rice'))\n"
     ]
    }
   ],
   "source": [
    "##enumurate\n",
    "grocery = ('milk','bread','butter','cashews','alomnds','rice')\n",
    "grocery_enum_address = enumerate(grocery)\n",
    "grocery_enum_address_tuple = tuple(grocery_enum_address)\n",
    "print(grocery)\n",
    "print(grocery_enum_address)\n",
    "print(grocery_enum_address_tuple)"
   ]
  },
  {
   "cell_type": "code",
   "execution_count": 44,
   "id": "0782e1cb-a4cb-4da4-8e6f-f8dbe1401eac",
   "metadata": {},
   "outputs": [],
   "source": [
    "# tuple packing and unpacking\n",
    "ipl = 'CSK','MI','RCB','KKR'"
   ]
  },
  {
   "cell_type": "code",
   "execution_count": 45,
   "id": "72749ad3-dcac-42ad-8d40-9b988c6df341",
   "metadata": {},
   "outputs": [
    {
     "data": {
      "text/plain": [
       "tuple"
      ]
     },
     "execution_count": 45,
     "metadata": {},
     "output_type": "execute_result"
    }
   ],
   "source": [
    "type(ipl)"
   ]
  },
  {
   "cell_type": "code",
   "execution_count": 46,
   "id": "d8ef40d4-83e0-4acb-8c8c-86036eb86a6e",
   "metadata": {},
   "outputs": [],
   "source": [
    "team1,team2,team3,team4 = ipl"
   ]
  },
  {
   "cell_type": "code",
   "execution_count": 47,
   "id": "3981e605-f8ba-449c-b510-7aee5f8d6d99",
   "metadata": {},
   "outputs": [
    {
     "data": {
      "text/plain": [
       "'CSK'"
      ]
     },
     "execution_count": 47,
     "metadata": {},
     "output_type": "execute_result"
    }
   ],
   "source": [
    "team1"
   ]
  },
  {
   "cell_type": "code",
   "execution_count": 81,
   "id": "0114ebf3-2e31-4ed1-858a-3e42a6fed580",
   "metadata": {},
   "outputs": [],
   "source": [
    "#\n",
    "nest_tup = (\"kakani\",\"mohith\",'sa',[1,2,3,4,5],\"saik\",[10,111,12,111])"
   ]
  },
  {
   "cell_type": "code",
   "execution_count": 51,
   "id": "7d4bfebb-3d6d-418f-84e9-809001002159",
   "metadata": {},
   "outputs": [
    {
     "data": {
      "text/plain": [
       "5"
      ]
     },
     "execution_count": 51,
     "metadata": {},
     "output_type": "execute_result"
    }
   ],
   "source": [
    "len(nest_tup)"
   ]
  },
  {
   "cell_type": "code",
   "execution_count": 52,
   "id": "3104d4dd-92cb-4c50-b580-8cdd8c677def",
   "metadata": {},
   "outputs": [
    {
     "data": {
      "text/plain": [
       "[10, 111, 12]"
      ]
     },
     "execution_count": 52,
     "metadata": {},
     "output_type": "execute_result"
    }
   ],
   "source": [
    "nest_tup[4]"
   ]
  },
  {
   "cell_type": "code",
   "execution_count": 53,
   "id": "f4e7e803-bb39-4c7b-a36f-de0707029055",
   "metadata": {},
   "outputs": [
    {
     "data": {
      "text/plain": [
       "111"
      ]
     },
     "execution_count": 53,
     "metadata": {},
     "output_type": "execute_result"
    }
   ],
   "source": [
    "nest_tup[4][1]"
   ]
  },
  {
   "cell_type": "code",
   "execution_count": 57,
   "id": "2f944cbb-8bbc-4b94-bff7-98502910a21e",
   "metadata": {},
   "outputs": [
    {
     "data": {
      "text/plain": [
       "1"
      ]
     },
     "execution_count": 57,
     "metadata": {},
     "output_type": "execute_result"
    }
   ],
   "source": [
    "nest_tup[4].count(12)"
   ]
  },
  {
   "cell_type": "code",
   "execution_count": 90,
   "id": "4d3e60ec-51ac-4135-9b31-59ad5eb2374d",
   "metadata": {},
   "outputs": [
    {
     "data": {
      "text/plain": [
       "'ak'"
      ]
     },
     "execution_count": 90,
     "metadata": {},
     "output_type": "execute_result"
    }
   ],
   "source": [
    "nest_tup[-2][1:4:2]"
   ]
  },
  {
   "cell_type": "code",
   "execution_count": 2,
   "id": "e0bea248-ba5a-4dff-9b69-25b035e48ec5",
   "metadata": {},
   "outputs": [],
   "source": [
    "\n",
    "# Existing dictionary\n",
    "person = {\n",
    "    'name': 'Alice',\n",
    "    'age': 30,\n",
    "    'city': 'New York'\n",
    "}\n"
   ]
  },
  {
   "cell_type": "code",
   "execution_count": 4,
   "id": "e26af967-b612-4fd2-8064-673c8ee58906",
   "metadata": {},
   "outputs": [],
   "source": [
    "\n",
    "# Adding two more key-value pairs\n",
    "person['email'] = 'alice@example.com'  # Adding an email\n",
    "person['occupation'] = 'Engineer'"
   ]
  },
  {
   "cell_type": "code",
   "execution_count": 5,
   "id": "908f1102-8841-4318-95c2-6f0006c8c19c",
   "metadata": {},
   "outputs": [
    {
     "data": {
      "text/plain": [
       "{'name': 'Alice',\n",
       " 'age': 30,\n",
       " 'city': 'New York',\n",
       " 'email': 'alice@example.com',\n",
       " 'occupation': 'Engineer'}"
      ]
     },
     "execution_count": 5,
     "metadata": {},
     "output_type": "execute_result"
    }
   ],
   "source": [
    "person\n"
   ]
  },
  {
   "cell_type": "code",
   "execution_count": 6,
   "id": "9f02e4ef-626e-499f-80dc-13a581c191bb",
   "metadata": {},
   "outputs": [],
   "source": [
    "people = ('sameer','Nilesh','Neha')"
   ]
  },
  {
   "cell_type": "code",
   "execution_count": 8,
   "id": "43d5cbcd-33d8-4eb3-8831-c7c99b9ad4f4",
   "metadata": {},
   "outputs": [],
   "source": [
    "citizen = dict.fromkeys(people,'india')"
   ]
  },
  {
   "cell_type": "code",
   "execution_count": 9,
   "id": "1b35bb58-c3cd-471d-80aa-33fa27a3f2cb",
   "metadata": {},
   "outputs": [
    {
     "data": {
      "text/plain": [
       "{'sameer': 'india', 'Nilesh': 'india', 'Neha': 'india'}"
      ]
     },
     "execution_count": 9,
     "metadata": {},
     "output_type": "execute_result"
    }
   ],
   "source": [
    "citizen"
   ]
  },
  {
   "cell_type": "code",
   "execution_count": 11,
   "id": "41048f81-757c-4871-80a8-9a1187018920",
   "metadata": {},
   "outputs": [],
   "source": [
    "# Creating a dictionary to represent a car\n",
    "car = {\n",
    "    'make': 'Toyota',\n",
    "    'model': 'Camry',\n",
    "    'year': 2021,\n",
    "    'color': 'blue',\n",
    "    'mileage': 15000,\n",
    "    'is_electric': False,\n",
    "    \n",
    "    }\n",
    "\n"
   ]
  },
  {
   "cell_type": "code",
   "execution_count": 12,
   "id": "89dc7fd7-ea8b-47af-8f59-768584851eeb",
   "metadata": {},
   "outputs": [
    {
     "data": {
      "text/plain": [
       "{'make': 'Toyota',\n",
       " 'model': 'Camry',\n",
       " 'year': 2021,\n",
       " 'color': 'blue',\n",
       " 'mileage': 15000,\n",
       " 'is_electric': False}"
      ]
     },
     "execution_count": 12,
     "metadata": {},
     "output_type": "execute_result"
    }
   ],
   "source": [
    "car"
   ]
  },
  {
   "cell_type": "code",
   "execution_count": 15,
   "id": "a211288c-49d2-4813-9788-d0c6831ab589",
   "metadata": {},
   "outputs": [
    {
     "data": {
      "text/plain": [
       "{'make': 'Toyota',\n",
       " 'model': 'Camry',\n",
       " 'year': 2021,\n",
       " 'color': 'blue',\n",
       " 'mileage': 15000,\n",
       " 'is_electric': False,\n",
       " 'Geare': 'Manual',\n",
       " 'sunruf': False,\n",
       " 'key_vale': ''}"
      ]
     },
     "execution_count": 15,
     "metadata": {},
     "output_type": "execute_result"
    }
   ],
   "source": [
    "car_update = {'Geare':'Manual','sunruf':False,'key_vale':\"\"}\n",
    "car.update(car_update)\n",
    "car"
   ]
  },
  {
   "cell_type": "code",
   "execution_count": 17,
   "id": "4a22216f-7aa6-4e85-a4b6-32c79f574217",
   "metadata": {},
   "outputs": [
    {
     "data": {
      "text/plain": [
       "('key_vale', '')"
      ]
     },
     "execution_count": 17,
     "metadata": {},
     "output_type": "execute_result"
    }
   ],
   "source": [
    "car.popitem()"
   ]
  },
  {
   "cell_type": "code",
   "execution_count": null,
   "id": "89c39024-962d-4e58-8cc2-4004742282d0",
   "metadata": {},
   "outputs": [],
   "source": [
    "student = {\n",
    "\n",
    "}"
   ]
  }
 ],
 "metadata": {
  "kernelspec": {
   "display_name": "Python 3 (ipykernel)",
   "language": "python",
   "name": "python3"
  },
  "language_info": {
   "codemirror_mode": {
    "name": "ipython",
    "version": 3
   },
   "file_extension": ".py",
   "mimetype": "text/x-python",
   "name": "python",
   "nbconvert_exporter": "python",
   "pygments_lexer": "ipython3",
   "version": "3.12.4"
  }
 },
 "nbformat": 4,
 "nbformat_minor": 5
}
