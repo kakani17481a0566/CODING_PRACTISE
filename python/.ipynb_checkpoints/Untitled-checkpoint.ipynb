{
 "cells": [
  {
   "cell_type": "code",
   "execution_count": 18,
   "id": "b970e40c-0c3a-4519-910b-7e156ccce8f4",
   "metadata": {},
   "outputs": [
    {
     "name": "stdout",
     "output_type": "stream",
     "text": [
      "rgsddddd\n"
     ]
    }
   ],
   "source": [
    "Name: 'mohit'\n",
    "Age : 25\n",
    "mobile_number : 6281234148"
   ]
  },
  {
   "cell_type": "code",
   "execution_count": 19,
   "id": "0e5f6ea2-737b-4ac9-88e4-16bf2435ea0f",
   "metadata": {},
   "outputs": [
    {
     "name": "stdout",
     "output_type": "stream",
     "text": [
      " Hello my name is  SAI my age is  10 and my mobile number is  6281234148\n",
      "Hello My name is SAI , my age is 10 and my mobile number 6281234148\n",
      "f string method\n",
      "My name is SAI of 10 AND MOBILE NUMBER IS 6281234148\n"
     ]
    }
   ],
   "source": [
    "name = 'SAI'\n",
    "AGE = 10\n",
    "MONILE_NUMBER = 6281234148\n",
    "\n",
    "print(\n",
    "    \" Hello my name is \", name, \"my age is \", AGE, \"and my mobile number is \", MONILE_NUMBER\n",
    "\n",
    ")\n",
    "\n",
    "##.formate\n",
    "print (\n",
    "\n",
    "\"Hello My name is {} , my age is {} and my mobile number {}\".format(name,AGE,MONILE_NUMBER))\n",
    "\n",
    "print(\"f string method\")\n",
    "\n",
    "print(f'My name is {name} of {AGE} AND MOBILE NUMBER IS {MONILE_NUMBER}' ) "
   ]
  },
  {
   "cell_type": "code",
   "execution_count": 20,
   "id": "8807ea01",
   "metadata": {},
   "outputs": [
    {
     "name": "stdout",
     "output_type": "stream",
     "text": [
      "LOCATION IN MY RAM 1982101486544\n"
     ]
    }
   ],
   "source": [
    "C = id(name)\n",
    "print ('LOCATION IN MY RAM', C)"
   ]
  },
  {
   "cell_type": "code",
   "execution_count": 3,
   "id": "d4d87748",
   "metadata": {
    "scrolled": true
   },
   "outputs": [
    {
     "name": "stdout",
     "output_type": "stream",
     "text": [
      "Wnat is  valu now :  0\n",
      "before adding ==> num 50\n",
      "50\n",
      "-------------\n"
     ]
    }
   ],
   "source": [
    "num = 50\n",
    "for i in range (0,1):\n",
    "    print(\"Wnat is  valu now : \", i)\n",
    "    print(\"before adding ==> num\", num)\n",
    "    print(num+i)\n",
    "    print(\"-------------\")"
   ]
  },
  {
   "cell_type": "code",
   "execution_count": null,
   "id": "3c09fca0-f33d-46c0-a0f4-d5d65861cdb7",
   "metadata": {},
   "outputs": [],
   "source": []
  }
 ],
 "metadata": {
  "kernelspec": {
   "display_name": "Python 3 (ipykernel)",
   "language": "python",
   "name": "python3"
  },
  "language_info": {
   "codemirror_mode": {
    "name": "ipython",
    "version": 3
   },
   "file_extension": ".py",
   "mimetype": "text/x-python",
   "name": "python",
   "nbconvert_exporter": "python",
   "pygments_lexer": "ipython3",
   "version": "3.12.4"
  }
 },
 "nbformat": 4,
 "nbformat_minor": 5
}
