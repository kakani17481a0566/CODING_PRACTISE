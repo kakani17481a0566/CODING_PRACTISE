{
 "cells": [
  {
   "cell_type": "markdown",
   "metadata": {},
   "source": [
    "## FUNCTIONS \n",
    ". IT IS A BLOCK OF CODE WHICH IS WRITTEN ONCE AND CAN BE CALLED BY ANY NUMBER OF ITEMS."
   ]
  },
  {
   "cell_type": "code",
   "execution_count": 3,
   "metadata": {},
   "outputs": [],
   "source": [
    "# FUNCTION WITH NO ARGUMENT/PARAMETER AND  NO RETURN VALUE\n",
    "\n",
    "# CREATE A FUNCTION TO CALCULATE AREA OF CIRCLE\n",
    "\n",
    "def area_of_circle():\n",
    "    red = int(input())\n",
    "    area = 3.14*(red*red)\n",
    "    print(f'The area of circle radios {red} is {area}')"
   ]
  },
  {
   "cell_type": "code",
   "execution_count": 4,
   "metadata": {},
   "outputs": [
    {
     "name": "stdout",
     "output_type": "stream",
     "text": [
      "The area of circle radios 10 is 314.0\n"
     ]
    }
   ],
   "source": [
    "area_of_circle()"
   ]
  },
  {
   "cell_type": "code",
   "execution_count": 7,
   "metadata": {},
   "outputs": [],
   "source": [
    "# simple interest\n",
    "def simple_interest():\n",
    "    amount = int(input())\n",
    "    interest_rate = float(input())\n",
    "    time_year = int(input())\n",
    "    s_i = (amount*interest_rate*time_year)/100\n",
    "    print(f\"Simple Interest {s_i}\")"
   ]
  },
  {
   "cell_type": "code",
   "execution_count": 8,
   "metadata": {},
   "outputs": [
    {
     "name": "stdout",
     "output_type": "stream",
     "text": [
      "Simple Interest 24000.0\n"
     ]
    }
   ],
   "source": [
    "simple_interest()\n"
   ]
  },
  {
   "cell_type": "code",
   "execution_count": 9,
   "metadata": {},
   "outputs": [],
   "source": [
    "def area_of_circle(red):\n",
    "  #  red = int(input())\n",
    "    area = 3.14*(red*red)\n",
    "    print(f'The area of circle radios {red} is {area}')"
   ]
  },
  {
   "cell_type": "code",
   "execution_count": 10,
   "metadata": {},
   "outputs": [
    {
     "name": "stdout",
     "output_type": "stream",
     "text": [
      "The area of circle radios 3 is 28.26\n"
     ]
    }
   ],
   "source": [
    "area_of_circle(3)"
   ]
  },
  {
   "cell_type": "code",
   "execution_count": 11,
   "metadata": {},
   "outputs": [
    {
     "name": "stdout",
     "output_type": "stream",
     "text": [
      "The area of circle radios 3 is 28.26\n"
     ]
    }
   ],
   "source": [
    "radios = int(input())\n",
    "area_of_circle(radios)"
   ]
  },
  {
   "cell_type": "code",
   "execution_count": 12,
   "metadata": {},
   "outputs": [],
   "source": [
    "def area_of_rectangle():\n",
    "    length = int(input())\n",
    "    breadth = int(input())\n",
    "    area = length*breadth\n",
    "    print(f'Area of rectangle {length} * {breadth}={area}')"
   ]
  },
  {
   "cell_type": "code",
   "execution_count": 13,
   "metadata": {},
   "outputs": [
    {
     "name": "stdout",
     "output_type": "stream",
     "text": [
      "Area of rectangle 2 * 2=4\n"
     ]
    }
   ],
   "source": [
    "area_of_rectangle()"
   ]
  },
  {
   "cell_type": "code",
   "execution_count": 14,
   "metadata": {},
   "outputs": [],
   "source": [
    "def area_of_rectangle_using_call(length,breadth):\n",
    "    area = length*breadth\n",
    "    print(f'Area of rectangle {length} * {breadth}={area}')"
   ]
  },
  {
   "cell_type": "code",
   "execution_count": 15,
   "metadata": {},
   "outputs": [
    {
     "name": "stdout",
     "output_type": "stream",
     "text": [
      "Area of rectangle 2 * 3=6\n"
     ]
    }
   ],
   "source": [
    "area_of_rectangle_using_call(2,3)"
   ]
  },
  {
   "cell_type": "code",
   "execution_count": 22,
   "metadata": {},
   "outputs": [
    {
     "name": "stdout",
     "output_type": "stream",
     "text": [
      "28.26\n"
     ]
    }
   ],
   "source": [
    "def square(x):\n",
    "    return x * x\n",
    "\n",
    "# Read input and convert it to an integer\n",
    "radius = int(input(\"Enter the radius: \"))\n",
    "\n",
    "# Calculate the area of the circle\n",
    "area = 3.14 * square(radius)\n",
    "\n",
    "# Print the area\n",
    "print(area)\n"
   ]
  },
  {
   "cell_type": "code",
   "execution_count": 33,
   "metadata": {},
   "outputs": [],
   "source": [
    "def aa_number (a,b):\n",
    "    x=  a+b\n",
    "    y= a-b\n",
    "    return x,y"
   ]
  },
  {
   "cell_type": "code",
   "execution_count": 61,
   "metadata": {},
   "outputs": [],
   "source": [
    "## var1,var2 = aa_number(2,3)\n",
    "\n",
    "##print(f'First value --> {var1}, second value --> {var2}')\n",
    "\n",
    "z,zz =aa_number(50,35)\n"
   ]
  },
  {
   "cell_type": "code",
   "execution_count": 45,
   "metadata": {},
   "outputs": [],
   "source": [
    "def simple_interest(amount,time_year,interest_rate=8):\n",
    "    #amount = int(input())\n",
    "    #interest_rate = float(input())\n",
    "    #time_year = int(input())\n",
    "    s_i = (amount*interest_rate*time_year)/100\n",
    "    print(f\"Simple Interest {s_i}\")"
   ]
  },
  {
   "cell_type": "code",
   "execution_count": 48,
   "metadata": {},
   "outputs": [
    {
     "name": "stdout",
     "output_type": "stream",
     "text": [
      "Simple Interest 8.0\n"
     ]
    }
   ],
   "source": [
    "simple_interest(50,2)"
   ]
  },
  {
   "cell_type": "code",
   "execution_count": 49,
   "metadata": {},
   "outputs": [],
   "source": [
    "def addition (*args):\n",
    "    total = 0\n",
    "    for i in args:\n",
    "        total = total+i\n",
    "    return total"
   ]
  },
  {
   "cell_type": "code",
   "execution_count": 53,
   "metadata": {},
   "outputs": [
    {
     "name": "stdout",
     "output_type": "stream",
     "text": [
      "6\n"
     ]
    },
    {
     "ename": "SyntaxError",
     "evalue": "'return' outside function (3264820871.py, line 3)",
     "output_type": "error",
     "traceback": [
      "\u001b[1;36m  Cell \u001b[1;32mIn[53], line 3\u001b[1;36m\u001b[0m\n\u001b[1;33m    return total\u001b[0m\n\u001b[1;37m    ^\u001b[0m\n\u001b[1;31mSyntaxError\u001b[0m\u001b[1;31m:\u001b[0m 'return' outside function\n"
     ]
    }
   ],
   "source": [
    "result = addition(1,2,3)\n",
    "print(result)\n"
   ]
  }
 ],
 "metadata": {
  "kernelspec": {
   "display_name": "Python 3",
   "language": "python",
   "name": "python3"
  },
  "language_info": {
   "codemirror_mode": {
    "name": "ipython",
    "version": 3
   },
   "file_extension": ".py",
   "mimetype": "text/x-python",
   "name": "python",
   "nbconvert_exporter": "python",
   "pygments_lexer": "ipython3",
   "version": "3.12.4"
  }
 },
 "nbformat": 4,
 "nbformat_minor": 2
}
