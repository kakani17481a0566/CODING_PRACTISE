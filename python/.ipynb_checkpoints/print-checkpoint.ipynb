{
 "cells": [
  {
   "cell_type": "code",
   "execution_count": 1,
   "metadata": {},
   "outputs": [
    {
     "name": "stdout",
     "output_type": "stream",
     "text": [
      "Using f-string: Name: Mohit, Age: 25, Mobile Number: 6281234148\n",
      "Using format(): Name: Mohit, Age: 25, Mobile Number: 6281234148\n",
      "Using concatenation: Name: Mohit, Age: 25, Mobile Number: 6281234148\n",
      "Using multiple print statements:\n",
      "Name: Mohit\n",
      "Age: 25\n",
      "Mobile Number: 6281234148\n"
     ]
    }
   ],
   "source": [
    "# Define personal information\n",
    "name = 'Mohit'\n",
    "age = 25\n",
    "mobile_number = '6281234148'\n",
    "\n"
   ]
  },
  {
   "cell_type": "code",
   "execution_count": null,
   "metadata": {},
   "outputs": [],
   "source": [
    "# Using f-strings for formatted output\n",
    "print(f\"Using f-string: Name: {name}, Age: {age}, Mobile Number: {mobile_number}\")\n"
   ]
  },
  {
   "cell_type": "code",
   "execution_count": null,
   "metadata": {},
   "outputs": [],
   "source": [
    "\n",
    "# Using the format() method\n",
    "print(\"Using format(): Name: {}, Age: {}, Mobile Number: {}\".format(name, age, mobile_number))\n",
    "\n"
   ]
  },
  {
   "cell_type": "code",
   "execution_count": null,
   "metadata": {},
   "outputs": [],
   "source": [
    "# Using string concatenation\n",
    "print(\"Using concatenation: Name: \" + name + \", Age: \" + str(age) + \", Mobile Number: \" + mobile_number)\n",
    "\n"
   ]
  },
  {
   "cell_type": "code",
   "execution_count": null,
   "metadata": {},
   "outputs": [],
   "source": [
    "# Using multiple print statements\n",
    "print(\"Using multiple print statements:\")\n",
    "print(\"Name:\", name)\n",
    "print(\"Age:\", age)\n",
    "print(\"Mobile Number:\", mobile_number)"
   ]
  }
 ],
 "metadata": {
  "kernelspec": {
   "display_name": "Python 3",
   "language": "python",
   "name": "python3"
  },
  "language_info": {
   "codemirror_mode": {
    "name": "ipython",
    "version": 3
   },
   "file_extension": ".py",
   "mimetype": "text/x-python",
   "name": "python",
   "nbconvert_exporter": "python",
   "pygments_lexer": "ipython3",
   "version": "3.12.4"
  }
 },
 "nbformat": 4,
 "nbformat_minor": 2
}
