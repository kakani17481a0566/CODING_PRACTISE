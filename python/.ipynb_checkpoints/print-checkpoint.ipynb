{
 "cells": [
  {
   "cell_type": "code",
   "execution_count": 78,
   "metadata": {},
   "outputs": [],
   "source": [
    "# Define personal information\n",
    "name = 'Mohit'\n",
    "age = 25\n",
    "mobile_number = '6281234148'\n",
    "\n"
   ]
  },
  {
   "cell_type": "code",
   "execution_count": 79,
   "metadata": {},
   "outputs": [
    {
     "name": "stdout",
     "output_type": "stream",
     "text": [
      "Using f-string: Name: Mohit, Age: 25, Mobile Number: 6281234148\n"
     ]
    }
   ],
   "source": [
    "# Using f-strings for formatted output\n",
    "print(f\"Using f-string: Name: {name}, Age: {age}, Mobile Number: {mobile_number}\")\n"
   ]
  },
  {
   "cell_type": "code",
   "execution_count": 80,
   "metadata": {},
   "outputs": [
    {
     "name": "stdout",
     "output_type": "stream",
     "text": [
      "Using format(): Name: Mohit, Age: 25, Mobile Number: 6281234148\n"
     ]
    }
   ],
   "source": [
    "\n",
    "# Using the format() method\n",
    "print(\"Using format(): Name: {}, Age: {}, Mobile Number: {}\".format(name, age, mobile_number))\n",
    "\n"
   ]
  },
  {
   "cell_type": "code",
   "execution_count": 81,
   "metadata": {},
   "outputs": [
    {
     "name": "stdout",
     "output_type": "stream",
     "text": [
      "Using concatenation: Name: Mohit, Age: 25, Mobile Number: 6281234148\n"
     ]
    }
   ],
   "source": [
    "# Using string concatenation\n",
    "print(\"Using concatenation: Name: \" + name + \", Age: \" + str(age) + \", Mobile Number: \" + mobile_number)\n",
    "\n"
   ]
  },
  {
   "cell_type": "code",
   "execution_count": 82,
   "metadata": {},
   "outputs": [
    {
     "name": "stdout",
     "output_type": "stream",
     "text": [
      "Using multiple print statements:\n",
      "Name: Mohit\n",
      "Age: 25\n",
      "Mobile Number: 6281234148\n"
     ]
    }
   ],
   "source": [
    "# Using multiple print statements\n",
    "print(\"Using multiple print statements:\")\n",
    "print(\"Name:\", name)\n",
    "print(\"Age:\", age)\n",
    "print(\"Mobile Number:\", mobile_number)"
   ]
  },
  {
   "cell_type": "markdown",
   "metadata": {},
   "source": [
    "### arithmetic operators"
   ]
  },
  {
   "cell_type": "code",
   "execution_count": 83,
   "metadata": {},
   "outputs": [
    {
     "name": "stdout",
     "output_type": "stream",
     "text": [
      "Addition: 13\n",
      "Subtraction: 7\n",
      "Multiplication: 30\n",
      "Division: 3.3333333333333335\n",
      "Floor Division: 3\n",
      "Modulus: 1\n",
      "Exponentiation: 1000\n"
     ]
    }
   ],
   "source": [
    "a = 10\n",
    "b = 3\n",
    "\n",
    "print(\"Addition:\", a + b)            # 13\n",
    "print(\"Subtraction:\", a - b)         # 7\n",
    "print(\"Multiplication:\", a * b)      # 30\n",
    "print(\"Division:\", a / b)            # 3.333...\n",
    "print(\"Floor Division:\", a // b)     # 3\n",
    "print(\"Modulus:\", a % b)             # 1\n",
    "print(\"Exponentiation:\", a ** b)     # 1000\n"
   ]
  },
  {
   "cell_type": "code",
   "execution_count": 84,
   "metadata": {},
   "outputs": [],
   "source": [
    "VAR_1 = 5\n",
    "VAR_2 = 25\n"
   ]
  },
  {
   "cell_type": "code",
   "execution_count": 85,
   "metadata": {},
   "outputs": [
    {
     "name": "stdout",
     "output_type": "stream",
     "text": [
      " 5  =  25  : False\n",
      " 5  !=  25 : True\n",
      " 5  <  25  : True\n",
      " 5  >  25  : False\n",
      " 5  <=  25 : True\n",
      " 5  >=  25 : True\n"
     ]
    }
   ],
   "source": [
    "print (F' {VAR_1}  =  {VAR_2}  : {VAR_1 == VAR_2}' )\n",
    "print (F' {VAR_1}  !=  {VAR_2} : {VAR_1 != VAR_2}' )\n",
    "print (F' {VAR_1}  <  {VAR_2}  : {VAR_1 < VAR_2}' )\n",
    "print (F' {VAR_1}  >  {VAR_2}  : {VAR_1 > VAR_2}' )\n",
    "print (F' {VAR_1}  <=  {VAR_2} : {VAR_1 <= VAR_2}' )\n",
    "print (F' {VAR_1}  >=  {VAR_2} : {VAR_1 != VAR_2}' )"
   ]
  },
  {
   "cell_type": "code",
   "execution_count": 86,
   "metadata": {},
   "outputs": [],
   "source": [
    "Circle_area = 3.14 * VAR_1**2"
   ]
  },
  {
   "cell_type": "code",
   "execution_count": 87,
   "metadata": {},
   "outputs": [
    {
     "name": "stdout",
     "output_type": "stream",
     "text": [
      "78.5\n"
     ]
    }
   ],
   "source": [
    "print(Circle_area)"
   ]
  },
  {
   "cell_type": "code",
   "execution_count": 88,
   "metadata": {},
   "outputs": [
    {
     "name": "stdin",
     "output_type": "stream",
     "text": [
      "enter radious :   20\n"
     ]
    }
   ],
   "source": [
    "radius = int(input(\"enter radious :  \"))"
   ]
  },
  {
   "cell_type": "code",
   "execution_count": 89,
   "metadata": {},
   "outputs": [],
   "source": [
    "Circle_area = 3.14 * radius**2"
   ]
  },
  {
   "cell_type": "code",
   "execution_count": 90,
   "metadata": {},
   "outputs": [
    {
     "ename": "SyntaxError",
     "evalue": "invalid syntax. Perhaps you forgot a comma? (2174619667.py, line 1)",
     "output_type": "error",
     "traceback": [
      "\u001b[1;36m  Cell \u001b[1;32mIn[90], line 1\u001b[1;36m\u001b[0m\n\u001b[1;33m    print(f\"Area of circle when radius is {radius}  :\"  {Circle_area})\u001b[0m\n\u001b[1;37m          ^\u001b[0m\n\u001b[1;31mSyntaxError\u001b[0m\u001b[1;31m:\u001b[0m invalid syntax. Perhaps you forgot a comma?\n"
     ]
    }
   ],
   "source": [
    "print(f\"Area of circle when radius is {radius}  :   {Circle_area}\" )"
   ]
  }
 ],
 "metadata": {
  "kernelspec": {
   "display_name": "Python 3 (ipykernel)",
   "language": "python",
   "name": "python3"
  },
  "language_info": {
   "codemirror_mode": {
    "name": "ipython",
    "version": 3
   },
   "file_extension": ".py",
   "mimetype": "text/x-python",
   "name": "python",
   "nbconvert_exporter": "python",
   "pygments_lexer": "ipython3",
   "version": "3.12.4"
  }
 },
 "nbformat": 4,
 "nbformat_minor": 4
}
