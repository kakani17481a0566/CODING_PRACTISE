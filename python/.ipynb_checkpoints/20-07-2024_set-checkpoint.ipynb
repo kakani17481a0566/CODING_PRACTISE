{
 "cells": [
  {
   "cell_type": "code",
   "execution_count": 73,
   "id": "7d6eb1ed-8c8c-44b4-bb48-c36988e40d6e",
   "metadata": {},
   "outputs": [
    {
     "name": "stdout",
     "output_type": "stream",
     "text": [
      "(12, 13, 44, 32, 12, 24, 44, 25)\n"
     ]
    }
   ],
   "source": [
    "##tuple and list\n",
    "\n",
    "tuple = (12,13,44,32,12,24,44,25)\n",
    "print(tuple)"
   ]
  },
  {
   "cell_type": "code",
   "execution_count": 74,
   "id": "46e1aedc-37df-4a03-9939-dc937c403bdd",
   "metadata": {},
   "outputs": [
    {
     "name": "stdout",
     "output_type": "stream",
     "text": [
      "['Hellow', 'World', 'Hellow']\n"
     ]
    }
   ],
   "source": [
    "list= [\"Hellow\",\"World\",\"Hellow\"]\n",
    "print(list)"
   ]
  },
  {
   "cell_type": "code",
   "execution_count": 75,
   "id": "53010763-b90c-47fa-a1f9-953e7260bc16",
   "metadata": {},
   "outputs": [],
   "source": [
    "#set\n",
    "dept = {'CSE','IT','ECE','CSE','MECH','cse'}"
   ]
  },
  {
   "cell_type": "code",
   "execution_count": 76,
   "id": "a0e1c35a-fdfd-4a10-868e-18f57b2e58ce",
   "metadata": {},
   "outputs": [
    {
     "data": {
      "text/plain": [
       "{'CSE', 'ECE', 'IT', 'MECH', 'cse'}"
      ]
     },
     "execution_count": 76,
     "metadata": {},
     "output_type": "execute_result"
    }
   ],
   "source": [
    "dept"
   ]
  },
  {
   "cell_type": "code",
   "execution_count": 77,
   "id": "13a13250-c3d6-48ce-84aa-d210f189bcb1",
   "metadata": {},
   "outputs": [
    {
     "name": "stdin",
     "output_type": "stream",
     "text": [
      "Enter The word to search--> sdf.\n"
     ]
    },
    {
     "name": "stdout",
     "output_type": "stream",
     "text": [
      "not exist\n"
     ]
    }
   ],
   "source": [
    "#set membership\n",
    "Find = input(\"Enter The word to search-->\")\n",
    "if Find in dept:\n",
    "    print(Find,\"exist\")\n",
    "else:\n",
    "    print(\"not exist\")\n"
   ]
  },
  {
   "cell_type": "code",
   "execution_count": 78,
   "id": "fc918adc-f466-4b88-b587-55a9d1f89ced",
   "metadata": {},
   "outputs": [],
   "source": [
    "flowers = {\"Rose\", \"Lily\", \"Tulip\", \"Sunflower\", \"Daisy\"}"
   ]
  },
  {
   "cell_type": "code",
   "execution_count": 79,
   "id": "161a8f89-1337-4af6-8569-40df3ed6f5fc",
   "metadata": {},
   "outputs": [
    {
     "data": {
      "text/plain": [
       "{'Daisy', 'Lily', 'Rose', 'Sunflower', 'Tulip'}"
      ]
     },
     "execution_count": 79,
     "metadata": {},
     "output_type": "execute_result"
    }
   ],
   "source": [
    "flowers"
   ]
  },
  {
   "cell_type": "code",
   "execution_count": 80,
   "id": "23a3744b-73e1-4b45-a49d-1940d9b77f2c",
   "metadata": {},
   "outputs": [
    {
     "name": "stdout",
     "output_type": "stream",
     "text": [
      "{'Tulip', 'Sunflower', 'Lily', 'Rose', 'Orchid', 'Daisy'}\n"
     ]
    }
   ],
   "source": [
    "# Adding an element\n",
    "flowers.add(\"Orchid\")\n",
    "print(flowers)  # {'Rose', 'Lily', 'Tulip', 'Sunflower', 'Orchid', 'Daisy'}"
   ]
  },
  {
   "cell_type": "code",
   "execution_count": 81,
   "id": "321224ff-5459-44e5-82c5-c3690901dba0",
   "metadata": {},
   "outputs": [
    {
     "name": "stdout",
     "output_type": "stream",
     "text": [
      "{'Sunflower', 'Lily', 'Rose', 'Orchid', 'Daisy'}\n"
     ]
    }
   ],
   "source": [
    "# Removing an element\n",
    "flowers.remove(\"Tulip\")\n",
    "print(flowers)  # {'Rose', 'Lily', 'Sunflower', 'Orchid', 'Daisy'}\n",
    "\n"
   ]
  },
  {
   "cell_type": "code",
   "execution_count": 82,
   "id": "96a06d0f-6a5a-4888-acc4-0982e734cd3c",
   "metadata": {},
   "outputs": [
    {
     "name": "stdout",
     "output_type": "stream",
     "text": [
      "set()\n"
     ]
    }
   ],
   "source": [
    "\n",
    "# Clearing the set\n",
    "flowers.clear()\n",
    "print(flowers)  # set()"
   ]
  },
  {
   "cell_type": "code",
   "execution_count": 90,
   "id": "fe2dc8a5-d00f-4061-88bf-671435f1ad80",
   "metadata": {},
   "outputs": [],
   "source": [
    "flowers = {\"Rose\", \"Lily\", \"Tulip\", \"Sunflower\", \"Daisy\"}"
   ]
  },
  {
   "cell_type": "code",
   "execution_count": 84,
   "id": "e45ccc60-0509-436e-addd-ab54ecb31ec6",
   "metadata": {},
   "outputs": [
    {
     "data": {
      "text/plain": [
       "{'Daisy', 'Lily', 'Rose', 'Sunflower', 'Tulip'}"
      ]
     },
     "execution_count": 84,
     "metadata": {},
     "output_type": "execute_result"
    }
   ],
   "source": [
    "flowers"
   ]
  },
  {
   "cell_type": "code",
   "execution_count": 85,
   "id": "8c22ff76-f7e0-42d3-94d0-6316b4bdedb5",
   "metadata": {},
   "outputs": [],
   "source": [
    "##flowers.pop()"
   ]
  },
  {
   "cell_type": "code",
   "execution_count": 86,
   "id": "3f84c915-d342-4b29-b0dd-f754d6b551b8",
   "metadata": {},
   "outputs": [
    {
     "data": {
      "text/plain": [
       "{'Daisy', 'Lily', 'Rose', 'Sunflower', 'Tulip'}"
      ]
     },
     "execution_count": 86,
     "metadata": {},
     "output_type": "execute_result"
    }
   ],
   "source": [
    "fls_copy = flowers.copy()\n",
    "fls_copy"
   ]
  },
  {
   "cell_type": "code",
   "execution_count": 87,
   "id": "3697415f-534a-4eb7-92bf-38061b618074",
   "metadata": {},
   "outputs": [],
   "source": [
    "flowers.update('sai','kakani')"
   ]
  },
  {
   "cell_type": "code",
   "execution_count": 88,
   "id": "cd3c93b4-1f24-4451-841b-9dac0ec4f8e6",
   "metadata": {},
   "outputs": [
    {
     "data": {
      "text/plain": [
       "{'Daisy', 'Lily', 'Rose', 'Sunflower', 'Tulip', 'a', 'i', 'k', 'n', 's'}"
      ]
     },
     "execution_count": 88,
     "metadata": {},
     "output_type": "execute_result"
    }
   ],
   "source": [
    "flowers"
   ]
  },
  {
   "cell_type": "code",
   "execution_count": 89,
   "id": "d5955e1e-a10a-48a4-aa57-7d93c903ace9",
   "metadata": {},
   "outputs": [],
   "source": [
    "flowers.clear()"
   ]
  },
  {
   "cell_type": "code",
   "execution_count": 91,
   "id": "72e121b8-b2f6-45d1-b4ec-9898595b91c7",
   "metadata": {},
   "outputs": [
    {
     "name": "stdout",
     "output_type": "stream",
     "text": [
      "Union: {1, 2, 3, 4, 5, 6}\n",
      "Intersection: {3, 4}\n",
      "Difference: {1, 2}\n",
      "Symmetric Difference: {1, 2, 5, 6}\n"
     ]
    }
   ],
   "source": [
    "set1 = {1, 2, 3, 4}\n",
    "set2 = {3, 4, 5, 6}\n",
    "\n",
    "union_set = set1 | set2\n",
    "intersection_set = set1 & set2\n",
    "difference_set = set1 - set2\n",
    "symmetric_difference_set = set1 ^ set2\n",
    "\n",
    "print(\"Union:\", union_set)\n",
    "print(\"Intersection:\", intersection_set)\n",
    "print(\"Difference:\", difference_set)\n",
    "print(\"Symmetric Difference:\", symmetric_difference_set)\n"
   ]
  },
  {
   "cell_type": "code",
   "execution_count": 92,
   "id": "32726818-b41e-4a85-ab69-3bc6774a4fde",
   "metadata": {},
   "outputs": [
    {
     "name": "stdout",
     "output_type": "stream",
     "text": [
      "Union: {1, 2, 3, 4, 5, 6}\n",
      "Intersection: {3, 4}\n",
      "Difference: {1, 2}\n",
      "Symmetric Difference: {1, 2, 5, 6}\n"
     ]
    }
   ],
   "source": [
    "\n",
    "union_set = set1.union(set2)\n",
    "intersection_set = set1.intersection(set2)\n",
    "difference_set = set1.difference(set2)\n",
    "symmetric_difference_set = set1.symmetric_difference(set2)\n",
    "\n",
    "print(\"Union:\", union_set)\n",
    "print(\"Intersection:\", intersection_set)\n",
    "print(\"Difference:\", difference_set)\n",
    "print(\"Symmetric Difference:\", symmetric_difference_set)\n"
   ]
  },
  {
   "cell_type": "code",
   "execution_count": 94,
   "id": "dfa40fe8-8f14-403b-aa7c-fb85adea7f1d",
   "metadata": {},
   "outputs": [
    {
     "name": "stdout",
     "output_type": "stream",
     "text": [
      "Is set2 a subset of set1? True\n",
      "Is set1 a superset of set2? True\n",
      "Intersection of set1 and set2: {3, 4, 5}\n"
     ]
    }
   ],
   "source": [
    "# Define two sets\n",
    "set1 = {1, 2, 3, 4, 5}\n",
    "set2 = {3, 4, 5}\n",
    "\n",
    "# Check subset relationship and get result\n",
    "is_subset = set2.issubset(set1)\n",
    "print(f\"Is set2 a subset of set1? {is_subset}\")\n",
    "\n",
    "# Check superset relationship and get result\n",
    "is_superset = set1.issuperset(set2)\n",
    "print(f\"Is set1 a superset of set2? {is_superset}\")\n",
    "\n",
    "# Find intersection of set1 and set2 and get result\n",
    "intersection_set = set1.intersection(set2)\n",
    "print(f\"Intersection of set1 and set2: {intersection_set}\")\n"
   ]
  },
  {
   "cell_type": "code",
   "execution_count": 96,
   "id": "55be6283-701c-42d0-a344-ac36c5197556",
   "metadata": {},
   "outputs": [
    {
     "name": "stdout",
     "output_type": "stream",
     "text": [
      "{512, 64, 8, 1000, 216}\n"
     ]
    }
   ],
   "source": [
    "numbers = [1, 2, 3, 4, 5, 6, 7, 8, 9, 10]\n",
    "even_numbers = {x**3 for x in numbers if x % 2 == 0}\n",
    "print(even_numbers)  # Output: {2, 4, 6, 8, 10}\n"
   ]
  },
  {
   "cell_type": "markdown",
   "id": "18cde440-73c2-4b30-bfdd-ad759977eeaa",
   "metadata": {},
   "source": [
    "## Properties of frozenset\n",
    "## Immutable: Once created, you cannot add or remove elements from a frozenset.\n",
    "## Hashable: Because it is immutable, a frozenset can be used as a dictionary key or as an element in another set.\n",
    "## Set operations: You can perform set operations like union, intersection, difference, and symmetric difference with frozenset objects."
   ]
  },
  {
   "cell_type": "code",
   "execution_count": 97,
   "id": "01ede3e6-e33a-4912-aa5e-16f9f4b74946",
   "metadata": {},
   "outputs": [
    {
     "name": "stdout",
     "output_type": "stream",
     "text": [
      "frozenset({1, 2, 3, 4, 5})\n",
      "frozenset({3, 4, 5, 6, 7})\n"
     ]
    }
   ],
   "source": [
    "# Creating a frozenset from a list\n",
    "fset = frozenset([1, 2, 3, 4, 5])\n",
    "print(fset)  # Output: frozenset({1, 2, 3, 4, 5})\n",
    "\n",
    "# Creating a frozenset directly\n",
    "fset2 = frozenset({3, 4, 5, 6, 7})\n",
    "print(fset2)  # Output: frozenset({3, 4, 5, 6, 7})\n"
   ]
  },
  {
   "cell_type": "markdown",
   "id": "ff80f789-5140-4181-8817-625ad99444e1",
   "metadata": {},
   "source": [
    "## DIctionary "
   ]
  },
  {
   "cell_type": "code",
   "execution_count": 114,
   "id": "0e02b0ee-3ed1-4d0e-a614-d3766142fffc",
   "metadata": {},
   "outputs": [],
   "source": [
    "# Define a dictionary to store information about a person\n",
    "person = {\n",
    "    'name': 'John Doe',\n",
    "    'age': 30,\n",
    "    'city': 'New York',\n",
    "    'email': 'john.doe@example.com'\n",
    "}\n",
    "\n"
   ]
  },
  {
   "cell_type": "code",
   "execution_count": 99,
   "id": "7c34cf25-c94f-477d-9b69-19dbeea21e05",
   "metadata": {},
   "outputs": [
    {
     "data": {
      "text/plain": [
       "{'name': 'John Doe',\n",
       " 'age': 30,\n",
       " 'city': 'New York',\n",
       " 'email': 'john.doe@example.com'}"
      ]
     },
     "execution_count": 99,
     "metadata": {},
     "output_type": "execute_result"
    }
   ],
   "source": [
    "person"
   ]
  },
  {
   "cell_type": "code",
   "execution_count": 100,
   "id": "38e6eec5-27ca-4776-bd74-e5b78a55ef3e",
   "metadata": {},
   "outputs": [
    {
     "name": "stdout",
     "output_type": "stream",
     "text": [
      "Name: John Doe\n",
      "Age: 30\n",
      "City: New York\n",
      "Email: john.doe@example.com\n"
     ]
    }
   ],
   "source": [
    "\n",
    "# Accessing values in the dictionary\n",
    "print(\"Name:\", person['name'])\n",
    "print(\"Age:\", person['age'])\n",
    "print(\"City:\", person['city'])\n",
    "print(\"Email:\", person['email'])\n"
   ]
  },
  {
   "cell_type": "code",
   "execution_count": 116,
   "id": "131315f0-a72b-46ab-a110-8e2f16b8dac2",
   "metadata": {},
   "outputs": [],
   "source": [
    "person['mobile_no'] = 123456789\n",
    "\n"
   ]
  },
  {
   "cell_type": "code",
   "execution_count": 117,
   "id": "9edd2b45-8c91-44cf-a654-32e98e105d4f",
   "metadata": {},
   "outputs": [
    {
     "data": {
      "text/plain": [
       "{'name': 'John Doe',\n",
       " 'age': 30,\n",
       " 'city': 'New York',\n",
       " 'email': 'john.doe@example.com',\n",
       " 'mobile_no': 123456789}"
      ]
     },
     "execution_count": 117,
     "metadata": {},
     "output_type": "execute_result"
    }
   ],
   "source": [
    "person"
   ]
  },
  {
   "cell_type": "code",
   "execution_count": 109,
   "id": "25ccb69f-c269-46c2-b9e7-e9ad9a195f46",
   "metadata": {},
   "outputs": [],
   "source": [
    "del person['mobile_no']"
   ]
  },
  {
   "cell_type": "code",
   "execution_count": 110,
   "id": "72f30d57-b374-4774-9af8-bf9330104095",
   "metadata": {},
   "outputs": [
    {
     "data": {
      "text/plain": [
       "{'name': 'John Doe',\n",
       " 'age': 30,\n",
       " 'city': 'New York',\n",
       " 'email': 'john.doe@example.com'}"
      ]
     },
     "execution_count": 110,
     "metadata": {},
     "output_type": "execute_result"
    }
   ],
   "source": [
    "person"
   ]
  },
  {
   "cell_type": "code",
   "execution_count": 112,
   "id": "0856950a-45f1-4e58-a46f-b113536e5c8a",
   "metadata": {},
   "outputs": [
    {
     "data": {
      "text/plain": [
       "30"
      ]
     },
     "execution_count": 112,
     "metadata": {},
     "output_type": "execute_result"
    }
   ],
   "source": [
    "person.pop('age')"
   ]
  },
  {
   "cell_type": "code",
   "execution_count": 118,
   "id": "367a66ec-660f-4c63-bd0c-3274dc5bdc2f",
   "metadata": {},
   "outputs": [
    {
     "data": {
      "text/plain": [
       "{'name': 'John Doe',\n",
       " 'age': 30,\n",
       " 'city': 'New York',\n",
       " 'email': 'john.doe@example.com',\n",
       " 'mobile_no': 123456789}"
      ]
     },
     "execution_count": 118,
     "metadata": {},
     "output_type": "execute_result"
    }
   ],
   "source": [
    "person"
   ]
  },
  {
   "cell_type": "code",
   "execution_count": 119,
   "id": "7018572b-0361-436e-808d-a5501efa33f3",
   "metadata": {},
   "outputs": [],
   "source": [
    "del person['mobile_no']"
   ]
  },
  {
   "cell_type": "code",
   "execution_count": 120,
   "id": "056acc0c-57fa-4b0a-a825-211a7dcadf0d",
   "metadata": {},
   "outputs": [
    {
     "data": {
      "text/plain": [
       "30"
      ]
     },
     "execution_count": 120,
     "metadata": {},
     "output_type": "execute_result"
    }
   ],
   "source": [
    "person.pop('age')"
   ]
  },
  {
   "cell_type": "code",
   "execution_count": 121,
   "id": "700427cf-f7ed-4e2c-817d-ae1dc1211139",
   "metadata": {},
   "outputs": [
    {
     "data": {
      "text/plain": [
       "{'name': 'John Doe', 'city': 'New York', 'email': 'john.doe@example.com'}"
      ]
     },
     "execution_count": 121,
     "metadata": {},
     "output_type": "execute_result"
    }
   ],
   "source": [
    "person"
   ]
  },
  {
   "cell_type": "code",
   "execution_count": null,
   "id": "d8e57ae3-4a02-41ef-92ef-a067fef56f12",
   "metadata": {},
   "outputs": [],
   "source": []
  }
 ],
 "metadata": {
  "kernelspec": {
   "display_name": "Python 3 (ipykernel)",
   "language": "python",
   "name": "python3"
  },
  "language_info": {
   "codemirror_mode": {
    "name": "ipython",
    "version": 3
   },
   "file_extension": ".py",
   "mimetype": "text/x-python",
   "name": "python",
   "nbconvert_exporter": "python",
   "pygments_lexer": "ipython3",
   "version": "3.12.4"
  }
 },
 "nbformat": 4,
 "nbformat_minor": 5
}
