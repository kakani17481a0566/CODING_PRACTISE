{
 "cells": [
  {
   "cell_type": "markdown",
   "metadata": {},
   "source": [
    "## BREAK"
   ]
  },
  {
   "cell_type": "code",
   "execution_count": null,
   "metadata": {},
   "outputs": [],
   "source": [
    "Name = ['MOHITH','KRISHNA','SAI','ADITHYA']\n",
    "for search  in Name:\n",
    "    print('--------')\n",
    "    if search == 'ADITHYA':\n",
    "        \n",
    "        print(search)\n",
    "        break"
   ]
  },
  {
   "cell_type": "code",
   "execution_count": null,
   "metadata": {},
   "outputs": [],
   "source": [
    "values = [1, 11, 13, 3, 5, 8, 15, 17, 7, 9,10]\n",
    "\n",
    "for i in values:\n",
    "    \n",
    "    print('in take value ->',i)\n",
    "    if i % 2 == 0:\n",
    "        print(i)\n",
    "        continue\n"
   ]
  },
  {
   "cell_type": "code",
   "execution_count": null,
   "metadata": {},
   "outputs": [],
   "source": [
    "nums = ['Rohit','Varun','Neha','Akash','Priti','Rahul','Akash','Mayank','Deepa','Akash','SAI']\n",
    "for i in nums:\n",
    "    if i == 'Akash':\n",
    "        continue        \n",
    "    print(f'{i}')\n"
   ]
  },
  {
   "cell_type": "code",
   "execution_count": null,
   "metadata": {},
   "outputs": [],
   "source": [
    "values = [1, 11, 13, 3, 5, 8, 15, 17, 7, 9,10]\n",
    "for i in values:\n",
    "    \n",
    "    if i%2==0:\n",
    "        #print(F'EVEN NUMBER {i}')\n",
    "        pass\n",
    "    print(f'ODD NUMBER {i}')\n",
    "print('end of the loop')"
   ]
  },
  {
   "cell_type": "code",
   "execution_count": null,
   "metadata": {},
   "outputs": [],
   "source": [
    "name = 'abcdefghijklmnopqrstuvwxyz'\n",
    "name[1:10:2]"
   ]
  },
  {
   "cell_type": "code",
   "execution_count": null,
   "metadata": {},
   "outputs": [],
   "source": [
    "nums=['rohit','varun', 'neha','priti', 'akash', 'rahul', 'mayank', 'deepa']\n",
    "for name in nums:\n",
    "    if name=='akash':\n",
    "        pass\n",
    "    print(name)"
   ]
  },
  {
   "cell_type": "code",
   "execution_count": 2,
   "metadata": {},
   "outputs": [],
   "source": [
    "nums = ['rohit', 'varun', 'neha', 'priti', 'akash', ['mohith', 'krishna', 'sai'], 'rahul', 'mayank', 'deepa']\n"
   ]
  },
  {
   "cell_type": "code",
   "execution_count": null,
   "metadata": {},
   "outputs": [],
   "source": []
  },
  {
   "cell_type": "code",
   "execution_count": 3,
   "metadata": {},
   "outputs": [
    {
     "data": {
      "text/plain": [
       "['varun', 'neha', 'priti', 'akash']"
      ]
     },
     "execution_count": 3,
     "metadata": {},
     "output_type": "execute_result"
    }
   ],
   "source": [
    "nums[1:5:1]"
   ]
  },
  {
   "cell_type": "code",
   "execution_count": 9,
   "metadata": {},
   "outputs": [],
   "source": [
    "new_name =['adithya', 'kakani']\n",
    "nums.extend(new_name)\n",
    "\n",
    "print=(nums)"
   ]
  },
  {
   "cell_type": "code",
   "execution_count": 12,
   "metadata": {},
   "outputs": [
    {
     "data": {
      "text/plain": [
       "['rohit',\n",
       " 'varun',\n",
       " 'neha',\n",
       " 'priti',\n",
       " 'akash',\n",
       " ['mohith', 'krishna', 'sai'],\n",
       " 'rahul',\n",
       " 'mayank',\n",
       " 'deepa',\n",
       " 'adithya',\n",
       " 'kakani',\n",
       " 'adithya',\n",
       " 'kakani',\n",
       " 'adithya',\n",
       " 'kakani']"
      ]
     },
     "execution_count": 12,
     "metadata": {},
     "output_type": "execute_result"
    }
   ],
   "source": [
    "nums"
   ]
  },
  {
   "cell_type": "code",
   "execution_count": 17,
   "metadata": {},
   "outputs": [
    {
     "ename": "ValueError",
     "evalue": "list.remove(x): x not in list",
     "output_type": "error",
     "traceback": [
      "\u001b[1;31m---------------------------------------------------------------------------\u001b[0m",
      "\u001b[1;31mValueError\u001b[0m                                Traceback (most recent call last)",
      "Cell \u001b[1;32mIn[17], line 1\u001b[0m\n\u001b[1;32m----> 1\u001b[0m \u001b[43mnums\u001b[49m\u001b[38;5;241;43m.\u001b[39;49m\u001b[43mremove\u001b[49m\u001b[43m(\u001b[49m\u001b[38;5;124;43m'\u001b[39;49m\u001b[38;5;124;43mmohith\u001b[39;49m\u001b[38;5;124;43m'\u001b[39;49m\u001b[43m)\u001b[49m\n",
      "\u001b[1;31mValueError\u001b[0m: list.remove(x): x not in list"
     ]
    }
   ],
   "source": [
    "nums.remove('mohith')"
   ]
  }
 ],
 "metadata": {
  "kernelspec": {
   "display_name": "Python 3",
   "language": "python",
   "name": "python3"
  },
  "language_info": {
   "codemirror_mode": {
    "name": "ipython",
    "version": 3
   },
   "file_extension": ".py",
   "mimetype": "text/x-python",
   "name": "python",
   "nbconvert_exporter": "python",
   "pygments_lexer": "ipython3",
   "version": "3.12.4"
  }
 },
 "nbformat": 4,
 "nbformat_minor": 2
}
