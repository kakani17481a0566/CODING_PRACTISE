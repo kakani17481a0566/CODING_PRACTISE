{
 "cells": [
  {
   "cell_type": "code",
   "execution_count": 9,
   "metadata": {},
   "outputs": [
    {
     "ename": "KeyboardInterrupt",
     "evalue": "Interrupted by user",
     "output_type": "error",
     "traceback": [
      "\u001b[1;31m---------------------------------------------------------------------------\u001b[0m",
      "\u001b[1;31mKeyboardInterrupt\u001b[0m                         Traceback (most recent call last)",
      "Cell \u001b[1;32mIn[9], line 1\u001b[0m\n\u001b[1;32m----> 1\u001b[0m n \u001b[38;5;241m=\u001b[39m \u001b[38;5;28mint\u001b[39m(\u001b[38;5;28;43minput\u001b[39;49m\u001b[43m(\u001b[49m\u001b[38;5;124;43m\"\u001b[39;49m\u001b[38;5;124;43mEnter the range\u001b[39;49m\u001b[38;5;124;43m\"\u001b[39;49m\u001b[43m)\u001b[49m)\n\u001b[0;32m      3\u001b[0m \u001b[38;5;28;01mfor\u001b[39;00m i \u001b[38;5;129;01min\u001b[39;00m \u001b[38;5;28mrange\u001b[39m(n):\n\u001b[0;32m      4\u001b[0m     res \u001b[38;5;241m=\u001b[39m i\u001b[38;5;241m*\u001b[39m\u001b[38;5;241m*\u001b[39m\u001b[38;5;241m2\u001b[39m\n",
      "File \u001b[1;32m~\\AppData\\Roaming\\Python\\Python312\\site-packages\\ipykernel\\kernelbase.py:1282\u001b[0m, in \u001b[0;36mKernel.raw_input\u001b[1;34m(self, prompt)\u001b[0m\n\u001b[0;32m   1280\u001b[0m     msg \u001b[38;5;241m=\u001b[39m \u001b[38;5;124m\"\u001b[39m\u001b[38;5;124mraw_input was called, but this frontend does not support input requests.\u001b[39m\u001b[38;5;124m\"\u001b[39m\n\u001b[0;32m   1281\u001b[0m     \u001b[38;5;28;01mraise\u001b[39;00m StdinNotImplementedError(msg)\n\u001b[1;32m-> 1282\u001b[0m \u001b[38;5;28;01mreturn\u001b[39;00m \u001b[38;5;28;43mself\u001b[39;49m\u001b[38;5;241;43m.\u001b[39;49m\u001b[43m_input_request\u001b[49m\u001b[43m(\u001b[49m\n\u001b[0;32m   1283\u001b[0m \u001b[43m    \u001b[49m\u001b[38;5;28;43mstr\u001b[39;49m\u001b[43m(\u001b[49m\u001b[43mprompt\u001b[49m\u001b[43m)\u001b[49m\u001b[43m,\u001b[49m\n\u001b[0;32m   1284\u001b[0m \u001b[43m    \u001b[49m\u001b[38;5;28;43mself\u001b[39;49m\u001b[38;5;241;43m.\u001b[39;49m\u001b[43m_parent_ident\u001b[49m\u001b[43m[\u001b[49m\u001b[38;5;124;43m\"\u001b[39;49m\u001b[38;5;124;43mshell\u001b[39;49m\u001b[38;5;124;43m\"\u001b[39;49m\u001b[43m]\u001b[49m\u001b[43m,\u001b[49m\n\u001b[0;32m   1285\u001b[0m \u001b[43m    \u001b[49m\u001b[38;5;28;43mself\u001b[39;49m\u001b[38;5;241;43m.\u001b[39;49m\u001b[43mget_parent\u001b[49m\u001b[43m(\u001b[49m\u001b[38;5;124;43m\"\u001b[39;49m\u001b[38;5;124;43mshell\u001b[39;49m\u001b[38;5;124;43m\"\u001b[39;49m\u001b[43m)\u001b[49m\u001b[43m,\u001b[49m\n\u001b[0;32m   1286\u001b[0m \u001b[43m    \u001b[49m\u001b[43mpassword\u001b[49m\u001b[38;5;241;43m=\u001b[39;49m\u001b[38;5;28;43;01mFalse\u001b[39;49;00m\u001b[43m,\u001b[49m\n\u001b[0;32m   1287\u001b[0m \u001b[43m\u001b[49m\u001b[43m)\u001b[49m\n",
      "File \u001b[1;32m~\\AppData\\Roaming\\Python\\Python312\\site-packages\\ipykernel\\kernelbase.py:1325\u001b[0m, in \u001b[0;36mKernel._input_request\u001b[1;34m(self, prompt, ident, parent, password)\u001b[0m\n\u001b[0;32m   1322\u001b[0m \u001b[38;5;28;01mexcept\u001b[39;00m \u001b[38;5;167;01mKeyboardInterrupt\u001b[39;00m:\n\u001b[0;32m   1323\u001b[0m     \u001b[38;5;66;03m# re-raise KeyboardInterrupt, to truncate traceback\u001b[39;00m\n\u001b[0;32m   1324\u001b[0m     msg \u001b[38;5;241m=\u001b[39m \u001b[38;5;124m\"\u001b[39m\u001b[38;5;124mInterrupted by user\u001b[39m\u001b[38;5;124m\"\u001b[39m\n\u001b[1;32m-> 1325\u001b[0m     \u001b[38;5;28;01mraise\u001b[39;00m \u001b[38;5;167;01mKeyboardInterrupt\u001b[39;00m(msg) \u001b[38;5;28;01mfrom\u001b[39;00m \u001b[38;5;28;01mNone\u001b[39;00m\n\u001b[0;32m   1326\u001b[0m \u001b[38;5;28;01mexcept\u001b[39;00m \u001b[38;5;167;01mException\u001b[39;00m:\n\u001b[0;32m   1327\u001b[0m     \u001b[38;5;28mself\u001b[39m\u001b[38;5;241m.\u001b[39mlog\u001b[38;5;241m.\u001b[39mwarning(\u001b[38;5;124m\"\u001b[39m\u001b[38;5;124mInvalid Message:\u001b[39m\u001b[38;5;124m\"\u001b[39m, exc_info\u001b[38;5;241m=\u001b[39m\u001b[38;5;28;01mTrue\u001b[39;00m)\n",
      "\u001b[1;31mKeyboardInterrupt\u001b[0m: Interrupted by user"
     ]
    }
   ],
   "source": [
    "n = int(input(\"Enter the range\"))\n",
    "\n",
    "for i in range(n):\n",
    "    res = i**2\n",
    "    print(res)\n",
    "    "
   ]
  },
  {
   "cell_type": "markdown",
   "metadata": {},
   "source": [
    "#####  Write a function to check if a number is even or odd.\n",
    "\n"
   ]
  },
  {
   "cell_type": "code",
   "execution_count": null,
   "metadata": {},
   "outputs": [
    {
     "name": "stdout",
     "output_type": "stream",
     "text": [
      "Odd\n"
     ]
    }
   ],
   "source": [
    "NUM = int(input(\"enter number -->\"))\n",
    "res = NUM%2\n",
    "if res == 0:\n",
    "    print(\"even\")\n",
    "else:\n",
    "    print(\"Odd\")\n",
    "    "
   ]
  },
  {
   "cell_type": "code",
   "execution_count": null,
   "metadata": {},
   "outputs": [
    {
     "name": "stdout",
     "output_type": "stream",
     "text": [
      "Wnat is  valu now :  1\n",
      "before adding ==> num 50\n",
      "51\n",
      "-------------\n",
      "Wnat is  valu now :  2\n",
      "before adding ==> num 50\n",
      "52\n",
      "-------------\n",
      "Wnat is  valu now :  3\n",
      "before adding ==> num 50\n",
      "53\n",
      "-------------\n",
      "Wnat is  valu now :  4\n",
      "before adding ==> num 50\n",
      "54\n",
      "-------------\n",
      "Wnat is  valu now :  5\n",
      "before adding ==> num 50\n",
      "55\n",
      "-------------\n",
      "Wnat is  valu now :  6\n",
      "before adding ==> num 50\n",
      "56\n",
      "-------------\n",
      "Wnat is  valu now :  7\n",
      "before adding ==> num 50\n",
      "57\n",
      "-------------\n",
      "Wnat is  valu now :  8\n",
      "before adding ==> num 50\n",
      "58\n",
      "-------------\n",
      "Wnat is  valu now :  9\n",
      "before adding ==> num 50\n",
      "59\n",
      "-------------\n",
      "Wnat is  valu now :  10\n",
      "before adding ==> num 50\n",
      "60\n",
      "-------------\n"
     ]
    }
   ],
   "source": [
    "num = 50\n",
    "for i in range (1,11):\n",
    "    print(\"Wnat is  valu now : \", i)\n",
    "    print(\"before adding ==> num\", num)\n",
    "    print(num+i)\n",
    "    print(\"-------------\")"
   ]
  },
  {
   "cell_type": "code",
   "execution_count": null,
   "metadata": {},
   "outputs": [
    {
     "name": "stdout",
     "output_type": "stream",
     "text": [
      "whats the value of i --> 10\n",
      "whats the value of i --> 5\n",
      "whats the value of i after before i-1 --> 10\n",
      "whats the value of i --> 5\n",
      "50\n",
      "what the value after 1- 9\n",
      "--------------\n",
      "whats the value of i --> 9\n",
      "whats the value of i --> 5\n",
      "whats the value of i after before i-1 --> 9\n",
      "whats the value of i --> 5\n",
      "45\n",
      "what the value after 1- 8\n",
      "--------------\n",
      "whats the value of i --> 8\n",
      "whats the value of i --> 5\n",
      "whats the value of i after before i-1 --> 8\n",
      "whats the value of i --> 5\n",
      "40\n",
      "what the value after 1- 7\n",
      "--------------\n",
      "whats the value of i --> 7\n",
      "whats the value of i --> 5\n",
      "whats the value of i after before i-1 --> 7\n",
      "whats the value of i --> 5\n",
      "35\n",
      "what the value after 1- 6\n",
      "--------------\n",
      "whats the value of i --> 6\n",
      "whats the value of i --> 5\n",
      "whats the value of i after before i-1 --> 6\n",
      "whats the value of i --> 5\n",
      "30\n",
      "what the value after 1- 5\n",
      "--------------\n",
      "whats the value of i --> 5\n",
      "whats the value of i --> 5\n",
      "whats the value of i after before i-1 --> 5\n",
      "whats the value of i --> 5\n",
      "25\n",
      "what the value after 1- 4\n",
      "--------------\n",
      "whats the value of i --> 4\n",
      "whats the value of i --> 5\n",
      "whats the value of i after before i-1 --> 4\n",
      "whats the value of i --> 5\n",
      "20\n",
      "what the value after 1- 3\n",
      "--------------\n",
      "whats the value of i --> 3\n",
      "whats the value of i --> 5\n",
      "whats the value of i after before i-1 --> 3\n",
      "whats the value of i --> 5\n",
      "15\n",
      "what the value after 1- 2\n",
      "--------------\n",
      "whats the value of i --> 2\n",
      "whats the value of i --> 5\n",
      "whats the value of i after before i-1 --> 2\n",
      "whats the value of i --> 5\n",
      "10\n",
      "what the value after 1- 1\n",
      "--------------\n"
     ]
    }
   ],
   "source": [
    "i =10\n",
    "valu = 5\n",
    "\n",
    "while i > 1:\n",
    "    print(f'whats the value of i --> {i}')\n",
    "    print(f'whats the value of val --> {valu}')\n",
    "    vars = i * valu\n",
    "    print(f'whats the value of i after before i-1 --> {i}')\n",
    "    print(f'whats the value of val --> {valu}')\n",
    "    print(vars)\n",
    "    i = i-1\n",
    "    print(f'what the value after 1- {i}')\n",
    "    print('--------------')\n",
    "    "
   ]
  },
  {
   "cell_type": "code",
   "execution_count": null,
   "metadata": {},
   "outputs": [],
   "source": [
    "x= 'python'\n"
   ]
  },
  {
   "cell_type": "code",
   "execution_count": null,
   "metadata": {},
   "outputs": [
    {
     "name": "stdout",
     "output_type": "stream",
     "text": [
      "****** python ******\n"
     ]
    }
   ],
   "source": [
    "length_ = len(x)\n",
    "print(\"*\"*length_+\" \" +x+ \" \"+\"*\"*length_)"
   ]
  },
  {
   "cell_type": "code",
   "execution_count": null,
   "metadata": {},
   "outputs": [
    {
     "name": "stdout",
     "output_type": "stream",
     "text": [
      "skz\n"
     ]
    }
   ],
   "source": [
    "x=input()\n",
    "y=input()\n",
    "z=input()\n",
    "print(f'{x[0]}{y[0]}{z[0]}')"
   ]
  },
  {
   "cell_type": "code",
   "execution_count": null,
   "metadata": {},
   "outputs": [],
   "source": [
    "n = \"sixty5\" * 4\n",
    "n = n[3:15]"
   ]
  },
  {
   "cell_type": "code",
   "execution_count": null,
   "metadata": {},
   "outputs": [
    {
     "name": "stdout",
     "output_type": "stream",
     "text": [
      "ty5sixty5six\n"
     ]
    }
   ],
   "source": [
    "print(n)"
   ]
  },
  {
   "cell_type": "markdown",
   "metadata": {},
   "source": [
    "## leisaasc"
   ]
  },
  {
   "cell_type": "code",
   "execution_count": null,
   "metadata": {},
   "outputs": [
    {
     "name": "stdout",
     "output_type": "stream",
     "text": [
      "even\n"
     ]
    }
   ],
   "source": [
    "flag = 0\n",
    "NUM = int(input(\"eneter range:\" )) \n",
    "for i in range (NUM):\n",
    "    if (i%2 == 0):\n",
    "        flag = flag+1\n",
    "        break\n",
    "if flag==1:\n",
    "    print(\"even\")"
   ]
  },
  {
   "cell_type": "code",
   "execution_count": null,
   "metadata": {},
   "outputs": [
    {
     "name": "stdout",
     "output_type": "stream",
     "text": [
      "2\n",
      "0\n",
      "1\n",
      "('1', '3')\n",
      "3\n"
     ]
    }
   ],
   "source": [
    "## my_tup = ()  \n",
    "sum = 0\n",
    "num = input()\n",
    "length_ = len(num)\n",
    "print(length_)  \n",
    "for i in range(length_):\n",
    "    print(i)  \n",
    "    ## my_tup += (num[i],) \n",
    "    sum = sum+int(num[i]) \n",
    "print(my_tup)\n",
    "print(sum)\n",
    "\n",
    "\n"
   ]
  },
  {
   "cell_type": "code",
   "execution_count": null,
   "metadata": {},
   "outputs": [
    {
     "name": "stdout",
     "output_type": "stream",
     "text": [
      "s\n",
      "a\n",
      "True\n"
     ]
    }
   ],
   "source": [
    "wor = input()\n",
    "first_letter = wor[0]\n",
    "last_letter  = wor[-1]\n",
    "print(first_letter)\n",
    "print(last_letter)\n",
    "print(first_letter != last_letter)"
   ]
  },
  {
   "cell_type": "code",
   "execution_count": null,
   "metadata": {},
   "outputs": [
    {
     "name": "stdout",
     "output_type": "stream",
     "text": [
      "h\n",
      "True\n"
     ]
    }
   ],
   "source": [
    "word1 =input()\n",
    "word2 =input()\n",
    "len_word2 = len(word2)\n",
    "print(word1[-(len_word2)])\n",
    "print(word1[-(len_word2):] == word2 )"
   ]
  },
  {
   "cell_type": "code",
   "execution_count": null,
   "metadata": {},
   "outputs": [
    {
     "name": "stdout",
     "output_type": "stream",
     "text": [
      "3\n",
      "peat\n",
      "..............\n",
      "pea\n",
      "pea\n",
      "True\n"
     ]
    }
   ],
   "source": [
    "#Repeat\n",
    "#pea\n",
    "#2\n",
    "\n",
    "\n",
    "A = 'Repeat'\n",
    "B = 'pea'\n",
    "i = 2\n",
    "## length_a = int(len(A))\n",
    "length_b = int(len(B))\n",
    "print(length_b)\n",
    "newword =(A[i:])\n",
    "print(newword)\n",
    "print(\"..............\")\n",
    "print(newword[:length_b])\n",
    "print(B)\n",
    "print((newword[:length_b]) == B)"
   ]
  },
  {
   "cell_type": "code",
   "execution_count": null,
   "metadata": {},
   "outputs": [
    {
     "name": "stdout",
     "output_type": "stream",
     "text": [
      "2\n",
      "5\n",
      "False\n",
      "True\n"
     ]
    }
   ],
   "source": [
    "Number = (input())\n",
    "one = int(Number[0])\n",
    "print(one)\n",
    "\n",
    "two = int(Number[1])\n",
    "print(two)\n",
    "Number = int(Number)\n",
    "print(25 < Number)\n",
    "print(one < two)"
   ]
  },
  {
   "cell_type": "code",
   "execution_count": null,
   "metadata": {},
   "outputs": [
    {
     "name": "stdout",
     "output_type": "stream",
     "text": [
      "1 1\n",
      "1\n",
      "******\n",
      "1 2\n",
      "2\n",
      "******\n",
      "2 3\n",
      "6\n",
      "******\n",
      "6 4\n",
      "24\n",
      "******\n",
      "24\n"
     ]
    }
   ],
   "source": [
    "Result = 1\n",
    "for n in range(1,5): #1,2,3,4\n",
    "    print(Result,n)\n",
    "    Result*=n\n",
    "    print(Result)\n",
    "    print(\"******\")\n",
    "print(Result)"
   ]
  },
  {
   "cell_type": "code",
   "execution_count": null,
   "metadata": {},
   "outputs": [
    {
     "name": "stdout",
     "output_type": "stream",
     "text": [
      "0b111\n",
      "****\n",
      "0b10\n",
      "****\n",
      "x 3\n",
      "y 8\n",
      "11\n"
     ]
    }
   ],
   "source": [
    "x = 7\n",
    "binary_representation_x = bin(x)\n",
    "\n",
    "print(binary_representation_x) \n",
    "print('****')\n",
    "y = 2\n",
    "binary_representation_y = bin(y)\n",
    "print(binary_representation_y) \n",
    "\n",
    "print('****')\n",
    "binary_x = (x >> 1)\n",
    "\n",
    "binary_y =( y <<2) \n",
    "\n",
    "print('x',binary_x)\n",
    "print('y',binary_y)\n",
    "\n",
    "print(x >> 1 | y <<2)"
   ]
  },
  {
   "cell_type": "code",
   "execution_count": null,
   "metadata": {},
   "outputs": [
    {
     "name": "stdout",
     "output_type": "stream",
     "text": [
      "True\n"
     ]
    }
   ],
   "source": [
    "print(not(1 != 1))"
   ]
  },
  {
   "cell_type": "code",
   "execution_count": null,
   "metadata": {},
   "outputs": [
    {
     "name": "stdout",
     "output_type": "stream",
     "text": [
      "True\n"
     ]
    }
   ],
   "source": [
    "a = int(input())\n",
    "b = int(input())\n",
    "sum = (a) + (b)\n",
    "check = sum > 7\n",
    "print(check)"
   ]
  },
  {
   "cell_type": "code",
   "execution_count": null,
   "metadata": {},
   "outputs": [
    {
     "name": "stdout",
     "output_type": "stream",
     "text": [
      "True\n"
     ]
    }
   ],
   "source": [
    "num1 = int(input())\n",
    "num2 = int(input())\n",
    "num3 = int(input())\n",
    "a = (int(num1+num2)>10)\n",
    "b = (int(num2+num3)>10)\n",
    "c = (int(num1+num3)>10)\n",
    "s= (a or b or c)\n",
    "print(s)"
   ]
  },
  {
   "cell_type": "code",
   "execution_count": 15,
   "metadata": {},
   "outputs": [
    {
     "name": "stdout",
     "output_type": "stream",
     "text": [
      "19\n",
      "23\n",
      "True\n",
      "False\n",
      "True\n"
     ]
    }
   ],
   "source": [
    "a = (input())\n",
    "First_sub = a[:2]\n",
    "print(First_sub)\n",
    "Second_sub =a[2:]\n",
    "print(Second_sub)\n",
    "check = (int(First_sub) == 19)\n",
    "print(check)\n",
    "check2 = ((int(Second_sub) >30)and (int(Second_sub)<60))\n",
    "print(check2)\n",
    "final_check = check or check2\n",
    "print(final_check)"
   ]
  },
  {
   "cell_type": "code",
   "execution_count": 16,
   "metadata": {},
   "outputs": [
    {
     "name": "stdout",
     "output_type": "stream",
     "text": [
      "False\n"
     ]
    }
   ],
   "source": [
    "number = '105'\n",
    "a = number[0]\n",
    "b =number[1]\n",
    "c = number[2]\n",
    "sum = (int(a)+int(b)+int(c))\n",
    "\n",
    "check1 = (int(b) == 1)\n",
    "check2 =(int(c)==5)\n",
    "check3 = (sum <12)\n",
    "\n",
    "final_check = ((check1 and check2)and check3)\n",
    "print(final_check)"
   ]
  },
  {
   "cell_type": "code",
   "execution_count": 2,
   "metadata": {},
   "outputs": [
    {
     "name": "stdout",
     "output_type": "stream",
     "text": [
      "False\n"
     ]
    }
   ],
   "source": [
    "num = input()\n",
    "\n",
    "a = num[0]\n",
    "a = int(a)\n",
    "b = num[1]\n",
    "b = int(b)\n",
    "c = num[2]\n",
    "c = int(c)\n",
    "\n",
    "check_1 = (a>7) and (b>7) and (c>7)\n",
    "\n",
    "# =<30\n",
    "check_2 = (((a*b)<=30) or ((a*c)<=30) or ((b*c)<=30))\n",
    "\n",
    "result = check_1 and check_2\n",
    "\n",
    "print(result)"
   ]
  },
  {
   "cell_type": "code",
   "execution_count": 3,
   "metadata": {},
   "outputs": [
    {
     "name": "stdout",
     "output_type": "stream",
     "text": [
      "True\n",
      "Buy a Book\n"
     ]
    }
   ],
   "source": [
    "s = input()\n",
    "c = int(input())\n",
    "check = ((s == \"Large\") and (c <= 300))\n",
    "print(check)\n",
    "if check :\n",
    "    print(\"Buy a Book\")\n",
    "else:\n",
    "    print(\"Do Not Buy a Book\")"
   ]
  },
  {
   "cell_type": "code",
   "execution_count": 5,
   "metadata": {},
   "outputs": [
    {
     "name": "stdout",
     "output_type": "stream",
     "text": [
      "\n",
      "*\n",
      "**\n",
      "***\n"
     ]
    }
   ],
   "source": [
    "a = int(input())\n",
    "b = int(input())\n",
    "c = int(input())\n",
    "\n",
    "check = ((a+b+c)==180)\n",
    "\n",
    "if check:\n",
    "    for i in range (4):\n",
    "        print('*'*i)\n",
    "else:\n",
    "    print('Not a Valid Triangle')"
   ]
  },
  {
   "cell_type": "code",
   "execution_count": 7,
   "metadata": {},
   "outputs": [
    {
     "name": "stdout",
     "output_type": "stream",
     "text": [
      "False\n",
      "False\n",
      "False\n",
      "Difference is not less than 25\n"
     ]
    }
   ],
   "source": [
    "a = int(input())\n",
    "b = int(input())\n",
    "c = int(input())\n",
    "\n",
    "check1 = (a-b)<25\n",
    "check2 = (b-c)<25\n",
    "check3 = (a-c)<25\n",
    "\n",
    "print(check1)\n",
    "print(check2)\n",
    "print(check3)\n",
    "\n",
    "if (check1 or check2 or check3):\n",
    "    print('Difference is less than 25')\n",
    "else:\n",
    "    print('Difference is not less than 25')"
   ]
  },
  {
   "cell_type": "code",
   "execution_count": 8,
   "metadata": {},
   "outputs": [
    {
     "name": "stdout",
     "output_type": "stream",
     "text": [
      "Valid Number\n"
     ]
    }
   ],
   "source": [
    "n = (input())\n",
    "\n",
    "check1 = ((n[0] != 5) or (n[1] != 5) or (n[2] != 5))\n",
    "\n",
    "print(check1)\n",
    "\n",
    "n = int(n)\n",
    "\n",
    "check2 = (300<n<700)\n",
    "\n",
    "print(check2)\n",
    "\n",
    "if(check1 and check2):\n",
    "    print(\"Valid Number\")\n",
    "else:\n",
    "    print(\"Not a Valid Number\")"
   ]
  }
 ],
 "metadata": {
  "kernelspec": {
   "display_name": "Python 3 (ipykernel)",
   "language": "python",
   "name": "python3"
  },
  "language_info": {
   "codemirror_mode": {
    "name": "ipython",
    "version": 3
   },
   "file_extension": ".py",
   "mimetype": "text/x-python",
   "name": "python",
   "nbconvert_exporter": "python",
   "pygments_lexer": "ipython3",
   "version": "3.12.4"
  }
 },
 "nbformat": 4,
 "nbformat_minor": 4
}
