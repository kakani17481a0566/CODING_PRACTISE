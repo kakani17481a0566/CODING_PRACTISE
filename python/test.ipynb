{
 "cells": [
  {
   "cell_type": "code",
   "execution_count": 8,
   "metadata": {},
   "outputs": [
    {
     "name": "stdout",
     "output_type": "stream",
     "text": [
      "Enter the range 3\n"
     ]
    },
    {
     "name": "stdout",
     "output_type": "stream",
     "text": [
      "0\n",
      "1\n",
      "4\n"
     ]
    }
   ],
   "source": [
    "n = int(input(\"Enter the range\"))\n",
    "\n",
    "for i in range(n):\n",
    "    res = i**2\n",
    "    print(res)\n",
    "    "
   ]
  },
  {
   "cell_type": "markdown",
   "metadata": {},
   "source": [
    "#####  Write a function to check if a number is even or odd.\n",
    "\n"
   ]
  },
  {
   "cell_type": "code",
   "execution_count": 18,
   "metadata": {},
   "outputs": [
    {
     "name": "stdout",
     "output_type": "stream",
     "text": [
      "Odd\n"
     ]
    }
   ],
   "source": [
    "NUM = int(input(\"enter number -->\"))\n",
    "res = NUM%2\n",
    "if res == 0:\n",
    "    print(\"even\")\n",
    "else:\n",
    "    print(\"Odd\")\n",
    "    "
   ]
  },
  {
   "cell_type": "code",
   "execution_count": 3,
   "metadata": {},
   "outputs": [
    {
     "name": "stdout",
     "output_type": "stream",
     "text": [
      "Wnat is  valu now :  1\n",
      "before adding ==> num 50\n",
      "51\n",
      "-------------\n",
      "Wnat is  valu now :  2\n",
      "before adding ==> num 50\n",
      "52\n",
      "-------------\n",
      "Wnat is  valu now :  3\n",
      "before adding ==> num 50\n",
      "53\n",
      "-------------\n",
      "Wnat is  valu now :  4\n",
      "before adding ==> num 50\n",
      "54\n",
      "-------------\n",
      "Wnat is  valu now :  5\n",
      "before adding ==> num 50\n",
      "55\n",
      "-------------\n",
      "Wnat is  valu now :  6\n",
      "before adding ==> num 50\n",
      "56\n",
      "-------------\n",
      "Wnat is  valu now :  7\n",
      "before adding ==> num 50\n",
      "57\n",
      "-------------\n",
      "Wnat is  valu now :  8\n",
      "before adding ==> num 50\n",
      "58\n",
      "-------------\n",
      "Wnat is  valu now :  9\n",
      "before adding ==> num 50\n",
      "59\n",
      "-------------\n",
      "Wnat is  valu now :  10\n",
      "before adding ==> num 50\n",
      "60\n",
      "-------------\n"
     ]
    }
   ],
   "source": [
    "num = 50\n",
    "for i in range (1,11):\n",
    "    print(\"Wnat is  valu now : \", i)\n",
    "    print(\"before adding ==> num\", num)\n",
    "    print(num+i)\n",
    "    print(\"-------------\")"
   ]
  },
  {
   "cell_type": "code",
   "execution_count": 4,
   "metadata": {},
   "outputs": [
    {
     "name": "stdout",
     "output_type": "stream",
     "text": [
      "whats the value of i --> 10\n",
      "whats the value of i --> 5\n",
      "whats the value of i after before i-1 --> 10\n",
      "whats the value of i --> 5\n",
      "50\n",
      "what the value after 1- 9\n",
      "--------------\n",
      "whats the value of i --> 9\n",
      "whats the value of i --> 5\n",
      "whats the value of i after before i-1 --> 9\n",
      "whats the value of i --> 5\n",
      "45\n",
      "what the value after 1- 8\n",
      "--------------\n",
      "whats the value of i --> 8\n",
      "whats the value of i --> 5\n",
      "whats the value of i after before i-1 --> 8\n",
      "whats the value of i --> 5\n",
      "40\n",
      "what the value after 1- 7\n",
      "--------------\n",
      "whats the value of i --> 7\n",
      "whats the value of i --> 5\n",
      "whats the value of i after before i-1 --> 7\n",
      "whats the value of i --> 5\n",
      "35\n",
      "what the value after 1- 6\n",
      "--------------\n",
      "whats the value of i --> 6\n",
      "whats the value of i --> 5\n",
      "whats the value of i after before i-1 --> 6\n",
      "whats the value of i --> 5\n",
      "30\n",
      "what the value after 1- 5\n",
      "--------------\n",
      "whats the value of i --> 5\n",
      "whats the value of i --> 5\n",
      "whats the value of i after before i-1 --> 5\n",
      "whats the value of i --> 5\n",
      "25\n",
      "what the value after 1- 4\n",
      "--------------\n",
      "whats the value of i --> 4\n",
      "whats the value of i --> 5\n",
      "whats the value of i after before i-1 --> 4\n",
      "whats the value of i --> 5\n",
      "20\n",
      "what the value after 1- 3\n",
      "--------------\n",
      "whats the value of i --> 3\n",
      "whats the value of i --> 5\n",
      "whats the value of i after before i-1 --> 3\n",
      "whats the value of i --> 5\n",
      "15\n",
      "what the value after 1- 2\n",
      "--------------\n",
      "whats the value of i --> 2\n",
      "whats the value of i --> 5\n",
      "whats the value of i after before i-1 --> 2\n",
      "whats the value of i --> 5\n",
      "10\n",
      "what the value after 1- 1\n",
      "--------------\n"
     ]
    }
   ],
   "source": [
    "i =10\n",
    "valu = 5\n",
    "\n",
    "while i > 1:\n",
    "    print(f'whats the value of i --> {i}')\n",
    "    print(f'whats the value of val --> {valu}')\n",
    "    vars = i * valu\n",
    "    print(f'whats the value of i after before i-1 --> {i}')\n",
    "    print(f'whats the value of val --> {valu}')\n",
    "    print(vars)\n",
    "    i = i-1\n",
    "    print(f'what the value after 1- {i}')\n",
    "    print('--------------')\n",
    "    "
   ]
  },
  {
   "cell_type": "code",
   "execution_count": 17,
   "metadata": {},
   "outputs": [],
   "source": [
    "x= 'python'\n"
   ]
  },
  {
   "cell_type": "code",
   "execution_count": 22,
   "metadata": {},
   "outputs": [
    {
     "name": "stdout",
     "output_type": "stream",
     "text": [
      "****** python ******\n"
     ]
    }
   ],
   "source": [
    "length_ = len(x)\n",
    "print(\"*\"*length_+\" \" +x+ \" \"+\"*\"*length_)"
   ]
  },
  {
   "cell_type": "code",
   "execution_count": 24,
   "metadata": {},
   "outputs": [
    {
     "name": "stdout",
     "output_type": "stream",
     "text": [
      "skz\n"
     ]
    }
   ],
   "source": [
    "x=input()\n",
    "y=input()\n",
    "z=input()\n",
    "print(f'{x[0]}{y[0]}{z[0]}')"
   ]
  },
  {
   "cell_type": "code",
   "execution_count": 2,
   "metadata": {},
   "outputs": [],
   "source": [
    "n = \"sixty5\" * 4\n",
    "n = n[3:15]"
   ]
  },
  {
   "cell_type": "code",
   "execution_count": 3,
   "metadata": {},
   "outputs": [
    {
     "name": "stdout",
     "output_type": "stream",
     "text": [
      "ty5sixty5six\n"
     ]
    }
   ],
   "source": [
    "print(n)"
   ]
  },
  {
   "cell_type": "markdown",
   "metadata": {},
   "source": [
    "## leisaasc"
   ]
  },
  {
   "cell_type": "code",
   "execution_count": 10,
   "metadata": {},
   "outputs": [
    {
     "name": "stdout",
     "output_type": "stream",
     "text": [
      "even\n"
     ]
    }
   ],
   "source": [
    "flag = 0\n",
    "NUM = int(input(\"eneter range:\" )) \n",
    "for i in range (NUM):\n",
    "    if (i%2 == 0):\n",
    "        flag = flag+1\n",
    "        break\n",
    "if flag==1:\n",
    "    print(\"even\")"
   ]
  },
  {
   "cell_type": "code",
   "execution_count": 27,
   "metadata": {},
   "outputs": [
    {
     "name": "stdout",
     "output_type": "stream",
     "text": [
      "2\n",
      "0\n",
      "1\n",
      "('1', '3')\n",
      "3\n"
     ]
    }
   ],
   "source": [
    "## my_tup = ()  \n",
    "sum = 0\n",
    "num = input()\n",
    "length_ = len(num)\n",
    "print(length_)  \n",
    "for i in range(length_):\n",
    "    print(i)  \n",
    "    ## my_tup += (num[i],) \n",
    "    sum = sum+int(num[i]) \n",
    "print(my_tup)\n",
    "print(sum)\n",
    "\n",
    "\n"
   ]
  },
  {
   "cell_type": "code",
   "execution_count": 3,
   "metadata": {},
   "outputs": [
    {
     "name": "stdout",
     "output_type": "stream",
     "text": [
      "s\n",
      "a\n",
      "True\n"
     ]
    }
   ],
   "source": [
    "wor = input()\n",
    "first_letter = wor[0]\n",
    "last_letter  = wor[-1]\n",
    "print(first_letter)\n",
    "print(last_letter)\n",
    "print(first_letter != last_letter)"
   ]
  },
  {
   "cell_type": "code",
   "execution_count": 6,
   "metadata": {},
   "outputs": [
    {
     "name": "stdout",
     "output_type": "stream",
     "text": [
      "h\n",
      "True\n"
     ]
    }
   ],
   "source": [
    "word1 =input()\n",
    "word2 =input()\n",
    "len_word2 = len(word2)\n",
    "print(word1[-(len_word2)])\n",
    "print(word1[-(len_word2):] == word2 )"
   ]
  },
  {
   "cell_type": "code",
   "execution_count": 26,
   "metadata": {},
   "outputs": [
    {
     "name": "stdout",
     "output_type": "stream",
     "text": [
      "3\n",
      "peat\n",
      "..............\n",
      "pea\n",
      "pea\n",
      "True\n"
     ]
    }
   ],
   "source": [
    "#Repeat\n",
    "#pea\n",
    "#2\n",
    "\n",
    "\n",
    "A = 'Repeat'\n",
    "B = 'pea'\n",
    "i = 2\n",
    "## length_a = int(len(A))\n",
    "length_b = int(len(B))\n",
    "print(length_b)\n",
    "newword =(A[i:])\n",
    "print(newword)\n",
    "print(\"..............\")\n",
    "print(newword[:length_b])\n",
    "print(B)\n",
    "print((newword[:length_b]) == B)"
   ]
  },
  {
   "cell_type": "code",
   "execution_count": 1,
   "metadata": {},
   "outputs": [
    {
     "name": "stdout",
     "output_type": "stream",
     "text": [
      "False\n",
      "True\n"
     ]
    }
   ],
   "source": [
    "Number = (input())\n",
    "one = int(Number[0])\n",
    "print(one)\n",
    "\n",
    "two = int(Number[1])\n",
    "print(two)\n",
    "Number = int(Number)\n",
    "print(25 < Number)\n",
    "print(one < two)"
   ]
  }
 ],
 "metadata": {
  "kernelspec": {
   "display_name": "Python 3 (ipykernel)",
   "language": "python",
   "name": "python3"
  },
  "language_info": {
   "codemirror_mode": {
    "name": "ipython",
    "version": 3
   },
   "file_extension": ".py",
   "mimetype": "text/x-python",
   "name": "python",
   "nbconvert_exporter": "python",
   "pygments_lexer": "ipython3",
   "version": "3.12.4"
  }
 },
 "nbformat": 4,
 "nbformat_minor": 4
}
