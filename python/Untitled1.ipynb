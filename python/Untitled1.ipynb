{
 "cells": [
  {
   "cell_type": "code",
   "execution_count": 16,
   "id": "051624cb-7554-45a4-9d77-93f8730fcb89",
   "metadata": {},
   "outputs": [],
   "source": [
    "nums = ['rohit', 'varun', 'neha', 'priti', 'akash', ['mohith', 'krishna', 'sai'], 'rahul', 'mayank', 'deepa']\n"
   ]
  },
  {
   "cell_type": "code",
   "execution_count": 14,
   "id": "ee10b4b8-7271-4190-9a3e-1fa1af9bd037",
   "metadata": {},
   "outputs": [
    {
     "data": {
      "text/plain": [
       "['rohit',\n",
       " 'varun',\n",
       " 'neha',\n",
       " 'priti',\n",
       " 'akash',\n",
       " ['mohith', 'krishna', 'sai'],\n",
       " 'rahul',\n",
       " 'mayank',\n",
       " 'deepa']"
      ]
     },
     "execution_count": 14,
     "metadata": {},
     "output_type": "execute_result"
    }
   ],
   "source": [
    "nums"
   ]
  },
  {
   "cell_type": "code",
   "execution_count": 15,
   "id": "1677edce-40f5-4850-8199-025ae0335214",
   "metadata": {},
   "outputs": [
    {
     "data": {
      "text/plain": [
       "'deepa'"
      ]
     },
     "execution_count": 15,
     "metadata": {},
     "output_type": "execute_result"
    }
   ],
   "source": [
    "nums.pop()"
   ]
  },
  {
   "cell_type": "code",
   "execution_count": 6,
   "id": "e4ce19e2-bf37-4bb8-82a6-3667fe948034",
   "metadata": {},
   "outputs": [],
   "source": [
    "nums.remove('priti')"
   ]
  },
  {
   "cell_type": "code",
   "execution_count": 17,
   "id": "e02f64f4-fd07-4a44-84f2-e95438ffedd4",
   "metadata": {},
   "outputs": [
    {
     "data": {
      "text/plain": [
       "['rohit',\n",
       " 'varun',\n",
       " 'neha',\n",
       " 'priti',\n",
       " 'akash',\n",
       " ['mohith', 'krishna', 'sai'],\n",
       " 'rahul',\n",
       " 'mayank',\n",
       " 'deepa']"
      ]
     },
     "execution_count": 17,
     "metadata": {},
     "output_type": "execute_result"
    }
   ],
   "source": [
    "nums"
   ]
  },
  {
   "cell_type": "code",
   "execution_count": 19,
   "id": "64b9c7e7-a84f-4cc8-abd4-1ef1f99b7abb",
   "metadata": {},
   "outputs": [],
   "source": [
    "nums = ['rohit', 'varun', 'neha', 'priti', 'akash', 'rahul', 'mayank', 'deepa']\n"
   ]
  },
  {
   "cell_type": "code",
   "execution_count": 20,
   "id": "7ad672ba-eee5-4f90-8d9f-a61e218e134d",
   "metadata": {},
   "outputs": [
    {
     "data": {
      "text/plain": [
       "['akash', 'deepa', 'mayank', 'neha', 'priti', 'rahul', 'rohit', 'varun']"
      ]
     },
     "execution_count": 20,
     "metadata": {},
     "output_type": "execute_result"
    }
   ],
   "source": [
    "nums.sort()\n",
    "nums"
   ]
  },
  {
   "cell_type": "code",
   "execution_count": null,
   "id": "7b6b4cb5-91a2-461c-8637-4a5aede3dd16",
   "metadata": {},
   "outputs": [],
   "source": []
  }
 ],
 "metadata": {
  "kernelspec": {
   "display_name": "Python 3 (ipykernel)",
   "language": "python",
   "name": "python3"
  },
  "language_info": {
   "codemirror_mode": {
    "name": "ipython",
    "version": 3
   },
   "file_extension": ".py",
   "mimetype": "text/x-python",
   "name": "python",
   "nbconvert_exporter": "python",
   "pygments_lexer": "ipython3",
   "version": "3.12.4"
  }
 },
 "nbformat": 4,
 "nbformat_minor": 5
}
